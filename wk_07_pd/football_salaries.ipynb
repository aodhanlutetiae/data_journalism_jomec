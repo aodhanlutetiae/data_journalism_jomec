{
 "cells": [
  {
   "cell_type": "markdown",
   "id": "32c76838-e791-41c4-ad3d-b5e76c989772",
   "metadata": {},
   "source": [
    "source: https://www.capology.com/uk/premier-league/salaries/"
   ]
  },
  {
   "cell_type": "code",
   "execution_count": 197,
   "id": "7f788b12-4219-43c0-ba14-641b219168c9",
   "metadata": {},
   "outputs": [],
   "source": [
    "import pandas as pd\n",
    "pd.set_option('display.max_columns', 200) # default is 20\n",
    "pd.set_option('display.float_format', '{:,}'.format) # include , in thousand figures"
   ]
  },
  {
   "cell_type": "markdown",
   "id": "aa7c58f3-e9e6-485c-9531-e0222e81dc8a",
   "metadata": {},
   "source": [
    "## Read in and examine"
   ]
  },
  {
   "cell_type": "code",
   "execution_count": 198,
   "id": "6617fe81-b94b-45c1-8626-fba16ecf2737",
   "metadata": {},
   "outputs": [],
   "source": [
    "file = '/Users/aidanadmin/Documents/DATA/ALL_DATASETS/football_salaries_2023_OUTPUT_clean.csv'\n",
    "\n",
    "df = pd.read_csv(file)"
   ]
  },
  {
   "cell_type": "code",
   "execution_count": 199,
   "id": "00da51b0-9f6d-4b14-b684-b9ce4fbff52e",
   "metadata": {},
   "outputs": [
    {
     "data": {
      "text/plain": [
       "(565, 13)"
      ]
     },
     "execution_count": 199,
     "metadata": {},
     "output_type": "execute_result"
    }
   ],
   "source": [
    "df.shape"
   ]
  },
  {
   "cell_type": "code",
   "execution_count": 200,
   "id": "fcfc70db-7fd1-41cc-b047-5961cd41c28a",
   "metadata": {},
   "outputs": [
    {
     "data": {
      "text/html": [
       "<div>\n",
       "<style scoped>\n",
       "    .dataframe tbody tr th:only-of-type {\n",
       "        vertical-align: middle;\n",
       "    }\n",
       "\n",
       "    .dataframe tbody tr th {\n",
       "        vertical-align: top;\n",
       "    }\n",
       "\n",
       "    .dataframe thead th {\n",
       "        text-align: right;\n",
       "    }\n",
       "</style>\n",
       "<table border=\"1\" class=\"dataframe\">\n",
       "  <thead>\n",
       "    <tr style=\"text-align: right;\">\n",
       "      <th></th>\n",
       "      <th>name</th>\n",
       "      <th>club</th>\n",
       "      <th>status</th>\n",
       "      <th>position</th>\n",
       "      <th>position_detail</th>\n",
       "      <th>age</th>\n",
       "      <th>country</th>\n",
       "      <th>active</th>\n",
       "      <th>loan</th>\n",
       "      <th>signed</th>\n",
       "      <th>expiration</th>\n",
       "      <th>years</th>\n",
       "      <th>annual_gross_gbp</th>\n",
       "    </tr>\n",
       "  </thead>\n",
       "  <tbody>\n",
       "    <tr>\n",
       "      <th>0</th>\n",
       "      <td>Kevin De Bruyne</td>\n",
       "      <td>Manchester City</td>\n",
       "      <td>Starter</td>\n",
       "      <td>F</td>\n",
       "      <td>AM</td>\n",
       "      <td>32</td>\n",
       "      <td>Belgium</td>\n",
       "      <td>True</td>\n",
       "      <td>False</td>\n",
       "      <td>Apr 7, 2021</td>\n",
       "      <td>Jun 30, 2025</td>\n",
       "      <td>2</td>\n",
       "      <td>20,800,000.0</td>\n",
       "    </tr>\n",
       "    <tr>\n",
       "      <th>1</th>\n",
       "      <td>Erling Haaland</td>\n",
       "      <td>Manchester City</td>\n",
       "      <td>Starter</td>\n",
       "      <td>F</td>\n",
       "      <td>CF</td>\n",
       "      <td>23</td>\n",
       "      <td>Norway</td>\n",
       "      <td>True</td>\n",
       "      <td>False</td>\n",
       "      <td>Jul 1, 2022</td>\n",
       "      <td>Jun 30, 2027</td>\n",
       "      <td>4</td>\n",
       "      <td>19,500,000.0</td>\n",
       "    </tr>\n",
       "    <tr>\n",
       "      <th>2</th>\n",
       "      <td>Mohamed Salah</td>\n",
       "      <td>Liverpool</td>\n",
       "      <td>Starter</td>\n",
       "      <td>F</td>\n",
       "      <td>RW</td>\n",
       "      <td>31</td>\n",
       "      <td>Egypt</td>\n",
       "      <td>True</td>\n",
       "      <td>False</td>\n",
       "      <td>Jul 1, 2022</td>\n",
       "      <td>Jun 30, 2025</td>\n",
       "      <td>2</td>\n",
       "      <td>18,200,000.0</td>\n",
       "    </tr>\n",
       "    <tr>\n",
       "      <th>3</th>\n",
       "      <td>Casemiro</td>\n",
       "      <td>Manchester United</td>\n",
       "      <td>Starter</td>\n",
       "      <td>M</td>\n",
       "      <td>DM</td>\n",
       "      <td>31</td>\n",
       "      <td>Brazil</td>\n",
       "      <td>True</td>\n",
       "      <td>False</td>\n",
       "      <td>Aug 22, 2022</td>\n",
       "      <td>Jun 30, 2026</td>\n",
       "      <td>3</td>\n",
       "      <td>18,200,000.0</td>\n",
       "    </tr>\n",
       "    <tr>\n",
       "      <th>4</th>\n",
       "      <td>Raphaël Varane</td>\n",
       "      <td>Manchester United</td>\n",
       "      <td>Starter</td>\n",
       "      <td>D</td>\n",
       "      <td>CB</td>\n",
       "      <td>30</td>\n",
       "      <td>France</td>\n",
       "      <td>True</td>\n",
       "      <td>False</td>\n",
       "      <td>Aug 14, 2021</td>\n",
       "      <td>Jun 30, 2025</td>\n",
       "      <td>2</td>\n",
       "      <td>17,680,000.0</td>\n",
       "    </tr>\n",
       "  </tbody>\n",
       "</table>\n",
       "</div>"
      ],
      "text/plain": [
       "              name               club   status position position_detail  age  \\\n",
       "0  Kevin De Bruyne    Manchester City  Starter        F              AM   32   \n",
       "1   Erling Haaland    Manchester City  Starter        F              CF   23   \n",
       "2    Mohamed Salah          Liverpool  Starter        F              RW   31   \n",
       "3         Casemiro  Manchester United  Starter        M              DM   31   \n",
       "4   Raphaël Varane  Manchester United  Starter        D              CB   30   \n",
       "\n",
       "   country  active   loan        signed    expiration  years  annual_gross_gbp  \n",
       "0  Belgium    True  False   Apr 7, 2021  Jun 30, 2025      2      20,800,000.0  \n",
       "1   Norway    True  False   Jul 1, 2022  Jun 30, 2027      4      19,500,000.0  \n",
       "2    Egypt    True  False   Jul 1, 2022  Jun 30, 2025      2      18,200,000.0  \n",
       "3   Brazil    True  False  Aug 22, 2022  Jun 30, 2026      3      18,200,000.0  \n",
       "4   France    True  False  Aug 14, 2021  Jun 30, 2025      2      17,680,000.0  "
      ]
     },
     "execution_count": 200,
     "metadata": {},
     "output_type": "execute_result"
    }
   ],
   "source": [
    "# top 3 rows\n",
    "\n",
    "df.head()"
   ]
  },
  {
   "cell_type": "code",
   "execution_count": 185,
   "id": "b5de90bd-52bf-4d74-b68c-eac17fab2c61",
   "metadata": {},
   "outputs": [
    {
     "data": {
      "text/plain": [
       "19"
      ]
     },
     "execution_count": 185,
     "metadata": {},
     "output_type": "execute_result"
    }
   ],
   "source": [
    "# how many rows are NaN?\n",
    "\n",
    "len(df[df.isna().any(axis=1)])"
   ]
  },
  {
   "cell_type": "code",
   "execution_count": 186,
   "id": "0e0be822-8095-4d50-aac2-2832eb53f6ce",
   "metadata": {},
   "outputs": [
    {
     "name": "stdout",
     "output_type": "stream",
     "text": [
      "<class 'pandas.core.frame.DataFrame'>\n",
      "RangeIndex: 565 entries, 0 to 564\n",
      "Data columns (total 13 columns):\n",
      " #   Column            Non-Null Count  Dtype  \n",
      "---  ------            --------------  -----  \n",
      " 0   name              565 non-null    object \n",
      " 1   club              565 non-null    object \n",
      " 2   status            565 non-null    object \n",
      " 3   position          565 non-null    object \n",
      " 4   position_detail   565 non-null    object \n",
      " 5   age               565 non-null    int64  \n",
      " 6   country           565 non-null    object \n",
      " 7   active            565 non-null    bool   \n",
      " 8   loan              565 non-null    bool   \n",
      " 9   signed            565 non-null    object \n",
      " 10  expiration        565 non-null    object \n",
      " 11  years             565 non-null    int64  \n",
      " 12  annual_gross_gbp  546 non-null    float64\n",
      "dtypes: bool(2), float64(1), int64(2), object(8)\n",
      "memory usage: 49.8+ KB\n"
     ]
    }
   ],
   "source": [
    "df.info()"
   ]
  },
  {
   "cell_type": "code",
   "execution_count": 187,
   "id": "810eb7e6-9815-469b-9e29-fcef49a6367d",
   "metadata": {},
   "outputs": [
    {
     "data": {
      "text/html": [
       "<div>\n",
       "<style scoped>\n",
       "    .dataframe tbody tr th:only-of-type {\n",
       "        vertical-align: middle;\n",
       "    }\n",
       "\n",
       "    .dataframe tbody tr th {\n",
       "        vertical-align: top;\n",
       "    }\n",
       "\n",
       "    .dataframe thead th {\n",
       "        text-align: right;\n",
       "    }\n",
       "</style>\n",
       "<table border=\"1\" class=\"dataframe\">\n",
       "  <thead>\n",
       "    <tr style=\"text-align: right;\">\n",
       "      <th></th>\n",
       "      <th>name</th>\n",
       "      <th>club</th>\n",
       "      <th>status</th>\n",
       "      <th>position</th>\n",
       "      <th>position_detail</th>\n",
       "      <th>age</th>\n",
       "      <th>country</th>\n",
       "      <th>active</th>\n",
       "      <th>loan</th>\n",
       "      <th>signed</th>\n",
       "      <th>expiration</th>\n",
       "      <th>years</th>\n",
       "      <th>annual_gross_gbp</th>\n",
       "    </tr>\n",
       "  </thead>\n",
       "  <tbody>\n",
       "    <tr>\n",
       "      <th>194</th>\n",
       "      <td>Adrián</td>\n",
       "      <td>Liverpool</td>\n",
       "      <td>Reserve</td>\n",
       "      <td>K</td>\n",
       "      <td>GK</td>\n",
       "      <td>36</td>\n",
       "      <td>Spain</td>\n",
       "      <td>True</td>\n",
       "      <td>False</td>\n",
       "      <td>Jun 30, 2023</td>\n",
       "      <td>Jun 30, 2024</td>\n",
       "      <td>1</td>\n",
       "      <td>3120000.0</td>\n",
       "    </tr>\n",
       "  </tbody>\n",
       "</table>\n",
       "</div>"
      ],
      "text/plain": [
       "       name       club   status position position_detail  age country  active  \\\n",
       "194  Adrián  Liverpool  Reserve        K              GK   36   Spain    True   \n",
       "\n",
       "      loan        signed    expiration  years  annual_gross_gbp  \n",
       "194  False  Jun 30, 2023  Jun 30, 2024      1         3120000.0  "
      ]
     },
     "execution_count": 187,
     "metadata": {},
     "output_type": "execute_result"
    }
   ],
   "source": [
    "# double filter\n",
    "\n",
    "df[(df.club == 'Liverpool') & (df.age == 36)]"
   ]
  },
  {
   "cell_type": "code",
   "execution_count": 216,
   "id": "72184650-8974-47a7-be13-0a4a86b0fb75",
   "metadata": {},
   "outputs": [
    {
     "data": {
      "text/html": [
       "<div>\n",
       "<style scoped>\n",
       "    .dataframe tbody tr th:only-of-type {\n",
       "        vertical-align: middle;\n",
       "    }\n",
       "\n",
       "    .dataframe tbody tr th {\n",
       "        vertical-align: top;\n",
       "    }\n",
       "\n",
       "    .dataframe thead th {\n",
       "        text-align: right;\n",
       "    }\n",
       "</style>\n",
       "<table border=\"1\" class=\"dataframe\">\n",
       "  <thead>\n",
       "    <tr style=\"text-align: right;\">\n",
       "      <th></th>\n",
       "      <th>name</th>\n",
       "      <th>club</th>\n",
       "      <th>status</th>\n",
       "      <th>position</th>\n",
       "      <th>position_detail</th>\n",
       "      <th>age</th>\n",
       "      <th>country</th>\n",
       "      <th>active</th>\n",
       "      <th>loan</th>\n",
       "      <th>signed</th>\n",
       "      <th>expiration</th>\n",
       "      <th>years</th>\n",
       "      <th>annual_gross_gbp</th>\n",
       "    </tr>\n",
       "  </thead>\n",
       "  <tbody>\n",
       "    <tr>\n",
       "      <th>2</th>\n",
       "      <td>Mohamed Salah</td>\n",
       "      <td>Liverpool</td>\n",
       "      <td>Starter</td>\n",
       "      <td>F</td>\n",
       "      <td>RW</td>\n",
       "      <td>31</td>\n",
       "      <td>Egypt</td>\n",
       "      <td>True</td>\n",
       "      <td>False</td>\n",
       "      <td>Jul 1, 2022</td>\n",
       "      <td>Jun 30, 2025</td>\n",
       "      <td>2</td>\n",
       "      <td>18,200,000.0</td>\n",
       "    </tr>\n",
       "    <tr>\n",
       "      <th>20</th>\n",
       "      <td>Virgil van Dijk</td>\n",
       "      <td>Liverpool</td>\n",
       "      <td>Starter</td>\n",
       "      <td>D</td>\n",
       "      <td>CB</td>\n",
       "      <td>32</td>\n",
       "      <td>Netherlands</td>\n",
       "      <td>True</td>\n",
       "      <td>False</td>\n",
       "      <td>Aug 13, 2021</td>\n",
       "      <td>Jun 30, 2025</td>\n",
       "      <td>2</td>\n",
       "      <td>11,440,000.0</td>\n",
       "    </tr>\n",
       "    <tr>\n",
       "      <th>25</th>\n",
       "      <td>Thiago</td>\n",
       "      <td>Liverpool</td>\n",
       "      <td>Reserve</td>\n",
       "      <td>M</td>\n",
       "      <td>CM</td>\n",
       "      <td>32</td>\n",
       "      <td>Spain</td>\n",
       "      <td>True</td>\n",
       "      <td>False</td>\n",
       "      <td>Sep 18, 2020</td>\n",
       "      <td>Jun 30, 2024</td>\n",
       "      <td>1</td>\n",
       "      <td>10,400,000.0</td>\n",
       "    </tr>\n",
       "    <tr>\n",
       "      <th>37</th>\n",
       "      <td>Trent Alexander-Arnold</td>\n",
       "      <td>Liverpool</td>\n",
       "      <td>Starter</td>\n",
       "      <td>D</td>\n",
       "      <td>RB</td>\n",
       "      <td>24</td>\n",
       "      <td>England</td>\n",
       "      <td>True</td>\n",
       "      <td>False</td>\n",
       "      <td>Jul 30, 2021</td>\n",
       "      <td>Jun 30, 2025</td>\n",
       "      <td>2</td>\n",
       "      <td>9,360,000.0</td>\n",
       "    </tr>\n",
       "  </tbody>\n",
       "</table>\n",
       "</div>"
      ],
      "text/plain": [
       "                      name       club   status position position_detail  age  \\\n",
       "2            Mohamed Salah  Liverpool  Starter        F              RW   31   \n",
       "20         Virgil van Dijk  Liverpool  Starter        D              CB   32   \n",
       "25                  Thiago  Liverpool  Reserve        M              CM   32   \n",
       "37  Trent Alexander-Arnold  Liverpool  Starter        D              RB   24   \n",
       "\n",
       "        country  active   loan        signed    expiration  years  \\\n",
       "2         Egypt    True  False   Jul 1, 2022  Jun 30, 2025      2   \n",
       "20  Netherlands    True  False  Aug 13, 2021  Jun 30, 2025      2   \n",
       "25        Spain    True  False  Sep 18, 2020  Jun 30, 2024      1   \n",
       "37      England    True  False  Jul 30, 2021  Jun 30, 2025      2   \n",
       "\n",
       "    annual_gross_gbp  \n",
       "2       18,200,000.0  \n",
       "20      11,440,000.0  \n",
       "25      10,400,000.0  \n",
       "37       9,360,000.0  "
      ]
     },
     "execution_count": 216,
     "metadata": {},
     "output_type": "execute_result"
    }
   ],
   "source": [
    "# sort by values in annual_gross_gbp column\n",
    "\n",
    "df[df.club == 'Liverpool'].sort_values('annual_gross_gbp', ascending = False).head(4)"
   ]
  },
  {
   "cell_type": "code",
   "execution_count": 31,
   "id": "7428b895-e568-4d3b-a126-5327f040ab3a",
   "metadata": {},
   "outputs": [
    {
     "data": {
      "text/plain": [
       "club\n",
       "Nottingham Forest    36\n",
       "Burnley              33\n",
       "Manchester United    32\n",
       "Chelsea              32\n",
       "Tottenham            31\n",
       "Sheffield United     30\n",
       "Newcastle            30\n",
       "Brighton             28\n",
       "Brentford            28\n",
       "Bournemouth          28\n",
       "Wolverhampton        27\n",
       "Aston Villa          27\n",
       "Crystal Palace       27\n",
       "Luton Town           26\n",
       "Manchester City      26\n",
       "Fulham               26\n",
       "Arsenal              26\n",
       "West Ham             25\n",
       "Everton              24\n",
       "Liverpool            23\n",
       "Name: count, dtype: int64"
      ]
     },
     "execution_count": 31,
     "metadata": {},
     "output_type": "execute_result"
    }
   ],
   "source": [
    "# what are the clubs and how many times does each appear in the dataset?\n",
    "\n",
    "df.club.value_counts()"
   ]
  },
  {
   "cell_type": "code",
   "execution_count": 19,
   "id": "7cb60878-6e70-4be4-8895-e8100376cef2",
   "metadata": {},
   "outputs": [
    {
     "data": {
      "text/plain": [
       "country\n",
       "England        175\n",
       "Brazil          34\n",
       "France          30\n",
       "Portugal        22\n",
       "Netherlands     21\n",
       "Spain           21\n",
       "Belgium         18\n",
       "Ireland         16\n",
       "Wales           15\n",
       "Argentina       15\n",
       "Name: count, dtype: int64"
      ]
     },
     "execution_count": 19,
     "metadata": {},
     "output_type": "execute_result"
    }
   ],
   "source": [
    "# top 10 most frequently occuring countries?\n",
    "\n",
    "df.country.value_counts()[:10]"
   ]
  },
  {
   "cell_type": "code",
   "execution_count": 191,
   "id": "551943e1-43d0-467f-adec-49af87cbff46",
   "metadata": {},
   "outputs": [
    {
     "name": "stdout",
     "output_type": "stream",
     "text": [
      "25.819469026548674\n",
      "25.0\n",
      "0    26\n",
      "Name: age, dtype: int64\n"
     ]
    }
   ],
   "source": [
    "# average age of players\n",
    "\n",
    "print(df.age.mean())\n",
    "print(df.age.median())\n",
    "print(df.age.mode())"
   ]
  },
  {
   "cell_type": "code",
   "execution_count": 192,
   "id": "783d695d-21df-44a1-823c-b120850efdad",
   "metadata": {},
   "outputs": [
    {
     "data": {
      "image/png": "[encoded data removed]",
      "text/plain": [
       "<Figure size 640x480 with 1 Axes>"
      ]
     },
     "metadata": {},
     "output_type": "display_data"
    }
   ],
   "source": [
    "# ages: most frequently occuring\n",
    "\n",
    "df.age.value_counts().plot(kind = 'bar');"
   ]
  },
  {
   "cell_type": "markdown",
   "id": "33047b49-a252-4329-b7d4-f1e7ed6926ad",
   "metadata": {},
   "source": [
    "## Groupby"
   ]
  },
  {
   "cell_type": "code",
   "execution_count": 218,
   "id": "f640c0a2-0018-4080-9dd6-bb2cd294939c",
   "metadata": {},
   "outputs": [
    {
     "data": {
      "text/plain": [
       "club\n",
       "Manchester City     8,361,167.0\n",
       "Arsenal             6,641,440.0\n",
       "Manchester United   6,462,375.0\n",
       "Liverpool           5,923,478.0\n",
       "Chelsea             5,356,000.0\n",
       "Aston Villa         4,500,000.0\n",
       "Tottenham           3,891,034.0\n",
       "West Ham            3,760,640.0\n",
       "Everton             3,269,083.0\n",
       "Newcastle           2,913,793.0\n",
       "Fulham              2,509,000.0\n",
       "Crystal Palace      2,441,852.0\n",
       "Brighton            2,243,704.0\n",
       "Nottingham Forest   2,088,529.0\n",
       "Wolverhampton       1,906,667.0\n",
       "Bournemouth         1,884,071.0\n",
       "Brentford           1,417,000.0\n",
       "Burnley             1,155,030.0\n",
       "Sheffield United      958,533.0\n",
       "Luton Town            945,000.0\n",
       "Name: annual_gross_gbp, dtype: float64"
      ]
     },
     "execution_count": 218,
     "metadata": {},
     "output_type": "execute_result"
    }
   ],
   "source": [
    "# groupby club, then get salary average, round off the figure, show 30 biggest\n",
    "\n",
    "df.groupby('club', sort=False).annual_gross_gbp.mean().round().nlargest(30)"
   ]
  },
  {
   "cell_type": "code",
   "execution_count": 219,
   "id": "d03a00df-139a-4ccf-a162-f58e3f9e0353",
   "metadata": {},
   "outputs": [
    {
     "data": {
      "text/plain": [
       "club\n",
       "Manchester United   206,796,000.0\n",
       "Manchester City     200,668,000.0\n",
       "Arsenal             166,036,000.0\n",
       "Chelsea             155,324,000.0\n",
       "Liverpool           136,240,000.0\n",
       "Aston Villa         117,000,000.0\n",
       "Tottenham           112,840,000.0\n",
       "West Ham             94,016,000.0\n",
       "Newcastle            84,500,000.0\n",
       "Everton              78,458,000.0\n",
       "Nottingham Forest    71,010,000.0\n",
       "Crystal Palace       65,930,000.0\n",
       "Brighton             60,580,000.0\n",
       "Bournemouth          52,754,000.0\n",
       "Wolverhampton        51,480,000.0\n",
       "Fulham               50,180,000.0\n",
       "Brentford            39,676,000.0\n",
       "Burnley              38,116,000.0\n",
       "Sheffield United     28,756,000.0\n",
       "Luton Town           24,570,000.0\n",
       "Name: annual_gross_gbp, dtype: float64"
      ]
     },
     "execution_count": 219,
     "metadata": {},
     "output_type": "execute_result"
    }
   ],
   "source": [
    "# same but total the salaries by club\n",
    "\n",
    "df.groupby('club', sort = False).annual_gross_gbp.sum().nlargest(30)"
   ]
  },
  {
   "cell_type": "code",
   "execution_count": 232,
   "id": "e8e437c9-b7d4-4bed-a558-7ac5c9b3e7af",
   "metadata": {},
   "outputs": [
    {
     "data": {
      "text/plain": [
       "country\n",
       "Egypt            10,530,000.0\n",
       "Croatia           9,186,667.0\n",
       "Norway            7,259,200.0\n",
       "South Korea       5,720,000.0\n",
       "France            5,361,379.0\n",
       "Ecuador           5,200,000.0\n",
       "Mexico            5,200,000.0\n",
       "Brazil            4,597,938.0\n",
       "Portugal          4,555,714.0\n",
       "Argentina         4,382,857.0\n",
       "Spain             4,359,789.0\n",
       "Switzerland       4,333,333.0\n",
       "New Zealand       4,160,000.0\n",
       "Belgium           3,961,750.0\n",
       "Hungary           3,900,000.0\n",
       "Netherlands       3,807,143.0\n",
       "Sweden            3,714,286.0\n",
       "Cameroon          3,607,500.0\n",
       "Germany           3,525,600.0\n",
       "Ukraine           3,515,200.0\n",
       "Uruguay           3,445,000.0\n",
       "Ghana             3,342,857.0\n",
       "Japan             3,206,667.0\n",
       "England           3,149,575.0\n",
       "Israel            3,120,000.0\n",
       "Mali              3,120,000.0\n",
       "Italy             3,042,000.0\n",
       "Poland            2,769,000.0\n",
       "Jamaica           2,704,000.0\n",
       "Czech Republic    2,600,000.0\n",
       "Name: annual_gross_gbp, dtype: float64"
      ]
     },
     "execution_count": 232,
     "metadata": {},
     "output_type": "execute_result"
    }
   ],
   "source": [
    "# find which nationality makes most money, per average player\n",
    "\n",
    "df.groupby('country')['annual_gross_gbp'].mean().round().nlargest(30)"
   ]
  },
  {
   "cell_type": "code",
   "execution_count": null,
   "id": "ec40680a-87e2-4a35-b060-7a32e5ce3735",
   "metadata": {},
   "outputs": [],
   "source": []
  }
 ],
 "metadata": {
  "kernelspec": {
   "display_name": "working_env",
   "language": "python",
   "name": "working_env"
  },
  "language_info": {
   "codemirror_mode": {
    "name": "ipython",
    "version": 3
   },
   "file_extension": ".py",
   "mimetype": "text/x-python",
   "name": "python",
   "nbconvert_exporter": "python",
   "pygments_lexer": "ipython3",
   "version": "3.11.4"
  }
 },
 "nbformat": 4,
 "nbformat_minor": 5
}
