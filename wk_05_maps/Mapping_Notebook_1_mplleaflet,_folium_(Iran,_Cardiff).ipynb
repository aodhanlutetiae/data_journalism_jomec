{
  "nbformat": 4,
  "nbformat_minor": 0,
  "metadata": {
    "colab": {
      "name": "Mapping Notebook 1 - mplleaflet, folium (Iran, Cardiff).ipynb",
      "provenance": [],
      "collapsed_sections": []
    },
    "kernelspec": {
      "name": "python3",
      "display_name": "Python 3"
    }
  },
  "cells": [
    {
      "cell_type": "markdown",
      "metadata": {
        "id": "GmoGRkUQq6QX"
      },
      "source": [
        "## Install some libraries that aren't automatically installed"
      ]
    },
    {
      "cell_type": "code",
      "metadata": {
        "id": "TrWEZPAsb3ww"
      },
      "source": [
        "!pip install gmaps"
      ],
      "execution_count": null,
      "outputs": []
    },
    {
      "cell_type": "code",
      "metadata": {
        "id": "sdPSDflwcBLC"
      },
      "source": [
        "!pip install mplleaflet"
      ],
      "execution_count": null,
      "outputs": []
    },
    {
      "cell_type": "markdown",
      "metadata": {
        "id": "sBsBGHpDq8hl"
      },
      "source": [
        "## Import the mapping libraries"
      ]
    },
    {
      "cell_type": "code",
      "metadata": {
        "id": "iysBKCCqaWkD"
      },
      "source": [
        "# import mapping libraries\n",
        "\n",
        "import matplotlib.pyplot as plt\n",
        "import folium\n",
        "import gmaps\n",
        "import mplleaflet\n",
        "\n",
        "# other useful imports\n",
        "import pandas as pd\n"
      ],
      "execution_count": null,
      "outputs": []
    },
    {
      "cell_type": "markdown",
      "metadata": {
        "id": "fZnPYC-zthgK"
      },
      "source": [
        "### Need files?\n",
        "> Hit the folder icon on the left to open the panel\n",
        "\n",
        "> Hit the 'mount drive' symbol\n",
        "\n",
        "> grant permission"
      ]
    },
    {
      "cell_type": "code",
      "metadata": {
        "id": "wsZjpCobu4gp",
        "outputId": "9a8c6a00-b62d-4aed-eff7-866b3839411e",
        "colab": {
          "base_uri": "https://localhost:8080/"
        }
      },
      "source": [
        "# run the 'ls' command that you (may) know from the command line, to list what's in the MSc folder\n",
        "\n",
        "!ls \"/content/drive/My Drive/JOMEC/FILES_FOR_CLASSES_2020/MSc\"\n"
      ],
      "execution_count": null,
      "outputs": [
        {
          "output_type": "stream",
          "text": [
            " 2016_senedd_turnout.csv\n",
            " done\n",
            " female_ss_sept.csv\n",
            " male_ss_sept.csv\n",
            "'mapping files'\n",
            "'Mapping Notebook 1 - mplleaflet, folium (Iran, Cardiff).ipynb'\n",
            "'Mapping Notebook 2 - matplotlib (Wales turnout 2016).ipynb'\n",
            "'msc brief 2 2020.pdf'\n",
            " ps752.csv\n",
            "'** Things for your diary (you can add to this).gdoc'\n",
            " uk_parl_2017.csv\n",
            " uk_parl_2017.shp\n",
            "'Visualisation checklist_2020.pdf'\n",
            " yet_to_do\n"
          ],
          "name": "stdout"
        }
      ]
    },
    {
      "cell_type": "code",
      "metadata": {
        "id": "YQxRaqvCu4lf"
      },
      "source": [
        "# read in a data file from the drive\n",
        "\n",
        "file = \"/content/drive/My Drive/JOMEC/FILES_FOR_CLASSES_2020/MSc/ps752.csv\"\n",
        "\n",
        "df = pd.read_csv(file)\n"
      ],
      "execution_count": null,
      "outputs": []
    },
    {
      "cell_type": "code",
      "metadata": {
        "id": "RX1dafDtvn5p",
        "outputId": "6fb3f414-e264-40e1-c1ce-111d51e690cc",
        "colab": {
          "base_uri": "https://localhost:8080/",
          "height": 175
        }
      },
      "source": [
        "df[:4]"
      ],
      "execution_count": null,
      "outputs": [
        {
          "output_type": "execute_result",
          "data": {
            "text/html": [
              "<div>\n",
              "<style scoped>\n",
              "    .dataframe tbody tr th:only-of-type {\n",
              "        vertical-align: middle;\n",
              "    }\n",
              "\n",
              "    .dataframe tbody tr th {\n",
              "        vertical-align: top;\n",
              "    }\n",
              "\n",
              "    .dataframe thead th {\n",
              "        text-align: right;\n",
              "    }\n",
              "</style>\n",
              "<table border=\"1\" class=\"dataframe\">\n",
              "  <thead>\n",
              "    <tr style=\"text-align: right;\">\n",
              "      <th></th>\n",
              "      <th>Timestamp</th>\n",
              "      <th>UTC</th>\n",
              "      <th>Callsign</th>\n",
              "      <th>Position</th>\n",
              "      <th>Altitude</th>\n",
              "      <th>Speed</th>\n",
              "      <th>Direction</th>\n",
              "    </tr>\n",
              "  </thead>\n",
              "  <tbody>\n",
              "    <tr>\n",
              "      <th>0</th>\n",
              "      <td>1578451116</td>\n",
              "      <td>2020-01-08T02:38:36Z</td>\n",
              "      <td>AUI752</td>\n",
              "      <td>35.412838,51.15638</td>\n",
              "      <td>0</td>\n",
              "      <td>15</td>\n",
              "      <td>109</td>\n",
              "    </tr>\n",
              "    <tr>\n",
              "      <th>1</th>\n",
              "      <td>1578451127</td>\n",
              "      <td>2020-01-08T02:38:47Z</td>\n",
              "      <td>AUI752</td>\n",
              "      <td>35.412533,51.157444</td>\n",
              "      <td>0</td>\n",
              "      <td>18</td>\n",
              "      <td>109</td>\n",
              "    </tr>\n",
              "    <tr>\n",
              "      <th>2</th>\n",
              "      <td>1578451133</td>\n",
              "      <td>2020-01-08T02:38:53Z</td>\n",
              "      <td>AUI752</td>\n",
              "      <td>35.412392,51.157951</td>\n",
              "      <td>0</td>\n",
              "      <td>19</td>\n",
              "      <td>109</td>\n",
              "    </tr>\n",
              "    <tr>\n",
              "      <th>3</th>\n",
              "      <td>1578451144</td>\n",
              "      <td>2020-01-08T02:39:04Z</td>\n",
              "      <td>AUI752</td>\n",
              "      <td>35.412048,51.15918</td>\n",
              "      <td>0</td>\n",
              "      <td>22</td>\n",
              "      <td>106</td>\n",
              "    </tr>\n",
              "  </tbody>\n",
              "</table>\n",
              "</div>"
            ],
            "text/plain": [
              "    Timestamp                   UTC Callsign  ... Altitude  Speed  Direction\n",
              "0  1578451116  2020-01-08T02:38:36Z   AUI752  ...        0     15        109\n",
              "1  1578451127  2020-01-08T02:38:47Z   AUI752  ...        0     18        109\n",
              "2  1578451133  2020-01-08T02:38:53Z   AUI752  ...        0     19        109\n",
              "3  1578451144  2020-01-08T02:39:04Z   AUI752  ...        0     22        106\n",
              "\n",
              "[4 rows x 7 columns]"
            ]
          },
          "metadata": {
            "tags": []
          },
          "execution_count": 146
        }
      ]
    },
    {
      "cell_type": "markdown",
      "metadata": {
        "id": "800aXXOtwhQw"
      },
      "source": [
        "## Plot a line (mplleaflet)\n",
        "\n",
        "> https://www.bbc.co.uk/news/world-middle-east-51140806\n",
        "\n",
        "> source of the data: https://www.flightradar24.com/blog/ukrainian-flight-ps752-crashes-shortly-after-take-off-from-tehran/"
      ]
    },
    {
      "cell_type": "code",
      "metadata": {
        "id": "Hjd5is0cvvqM"
      },
      "source": [
        "file = \"/content/drive/My Drive/JOMEC/FILES_FOR_CLASSES_2020/MSc/ps752.csv\"\n",
        "\n",
        "df = pd.read_csv(file)"
      ],
      "execution_count": null,
      "outputs": []
    },
    {
      "cell_type": "code",
      "metadata": {
        "id": "pGqa9m8rxC01",
        "outputId": "fe398a26-6f24-4ede-8c05-ba2b30a39173",
        "colab": {
          "base_uri": "https://localhost:8080/",
          "height": 175
        }
      },
      "source": [
        "df[:4]"
      ],
      "execution_count": null,
      "outputs": [
        {
          "output_type": "execute_result",
          "data": {
            "text/html": [
              "<div>\n",
              "<style scoped>\n",
              "    .dataframe tbody tr th:only-of-type {\n",
              "        vertical-align: middle;\n",
              "    }\n",
              "\n",
              "    .dataframe tbody tr th {\n",
              "        vertical-align: top;\n",
              "    }\n",
              "\n",
              "    .dataframe thead th {\n",
              "        text-align: right;\n",
              "    }\n",
              "</style>\n",
              "<table border=\"1\" class=\"dataframe\">\n",
              "  <thead>\n",
              "    <tr style=\"text-align: right;\">\n",
              "      <th></th>\n",
              "      <th>Timestamp</th>\n",
              "      <th>UTC</th>\n",
              "      <th>Callsign</th>\n",
              "      <th>Position</th>\n",
              "      <th>Altitude</th>\n",
              "      <th>Speed</th>\n",
              "      <th>Direction</th>\n",
              "    </tr>\n",
              "  </thead>\n",
              "  <tbody>\n",
              "    <tr>\n",
              "      <th>0</th>\n",
              "      <td>1578451116</td>\n",
              "      <td>2020-01-08T02:38:36Z</td>\n",
              "      <td>AUI752</td>\n",
              "      <td>35.412838,51.15638</td>\n",
              "      <td>0</td>\n",
              "      <td>15</td>\n",
              "      <td>109</td>\n",
              "    </tr>\n",
              "    <tr>\n",
              "      <th>1</th>\n",
              "      <td>1578451127</td>\n",
              "      <td>2020-01-08T02:38:47Z</td>\n",
              "      <td>AUI752</td>\n",
              "      <td>35.412533,51.157444</td>\n",
              "      <td>0</td>\n",
              "      <td>18</td>\n",
              "      <td>109</td>\n",
              "    </tr>\n",
              "    <tr>\n",
              "      <th>2</th>\n",
              "      <td>1578451133</td>\n",
              "      <td>2020-01-08T02:38:53Z</td>\n",
              "      <td>AUI752</td>\n",
              "      <td>35.412392,51.157951</td>\n",
              "      <td>0</td>\n",
              "      <td>19</td>\n",
              "      <td>109</td>\n",
              "    </tr>\n",
              "    <tr>\n",
              "      <th>3</th>\n",
              "      <td>1578451144</td>\n",
              "      <td>2020-01-08T02:39:04Z</td>\n",
              "      <td>AUI752</td>\n",
              "      <td>35.412048,51.15918</td>\n",
              "      <td>0</td>\n",
              "      <td>22</td>\n",
              "      <td>106</td>\n",
              "    </tr>\n",
              "  </tbody>\n",
              "</table>\n",
              "</div>"
            ],
            "text/plain": [
              "    Timestamp                   UTC Callsign  ... Altitude  Speed  Direction\n",
              "0  1578451116  2020-01-08T02:38:36Z   AUI752  ...        0     15        109\n",
              "1  1578451127  2020-01-08T02:38:47Z   AUI752  ...        0     18        109\n",
              "2  1578451133  2020-01-08T02:38:53Z   AUI752  ...        0     19        109\n",
              "3  1578451144  2020-01-08T02:39:04Z   AUI752  ...        0     22        106\n",
              "\n",
              "[4 rows x 7 columns]"
            ]
          },
          "metadata": {
            "tags": []
          },
          "execution_count": 148
        }
      ]
    },
    {
      "cell_type": "code",
      "metadata": {
        "id": "MQi-grACxJa4"
      },
      "source": [
        "# our latitude and longitude is all in one column - expand existing column into 2 new columns, splitting on ','\n",
        "\n",
        "df[['lat', 'long']] = df.Position.str.split(\",\", expand=True)"
      ],
      "execution_count": null,
      "outputs": []
    },
    {
      "cell_type": "code",
      "metadata": {
        "id": "VrI1Uqk5xQMs",
        "outputId": "d899e7ad-b844-453c-d2a1-2b051712e6e1",
        "colab": {
          "base_uri": "https://localhost:8080/",
          "height": 143
        }
      },
      "source": [
        "df[:3]"
      ],
      "execution_count": null,
      "outputs": [
        {
          "output_type": "execute_result",
          "data": {
            "text/html": [
              "<div>\n",
              "<style scoped>\n",
              "    .dataframe tbody tr th:only-of-type {\n",
              "        vertical-align: middle;\n",
              "    }\n",
              "\n",
              "    .dataframe tbody tr th {\n",
              "        vertical-align: top;\n",
              "    }\n",
              "\n",
              "    .dataframe thead th {\n",
              "        text-align: right;\n",
              "    }\n",
              "</style>\n",
              "<table border=\"1\" class=\"dataframe\">\n",
              "  <thead>\n",
              "    <tr style=\"text-align: right;\">\n",
              "      <th></th>\n",
              "      <th>unix_time</th>\n",
              "      <th>UTC_time</th>\n",
              "      <th>callsign</th>\n",
              "      <th>position</th>\n",
              "      <th>altitude</th>\n",
              "      <th>speed</th>\n",
              "      <th>direction</th>\n",
              "      <th>lat</th>\n",
              "      <th>long</th>\n",
              "    </tr>\n",
              "  </thead>\n",
              "  <tbody>\n",
              "    <tr>\n",
              "      <th>0</th>\n",
              "      <td>1578451116</td>\n",
              "      <td>2020-01-08T02:38:36Z</td>\n",
              "      <td>AUI752</td>\n",
              "      <td>35.412838,51.15638</td>\n",
              "      <td>0</td>\n",
              "      <td>15</td>\n",
              "      <td>109</td>\n",
              "      <td>35.412838</td>\n",
              "      <td>51.156380</td>\n",
              "    </tr>\n",
              "    <tr>\n",
              "      <th>1</th>\n",
              "      <td>1578451127</td>\n",
              "      <td>2020-01-08T02:38:47Z</td>\n",
              "      <td>AUI752</td>\n",
              "      <td>35.412533,51.157444</td>\n",
              "      <td>0</td>\n",
              "      <td>18</td>\n",
              "      <td>109</td>\n",
              "      <td>35.412533</td>\n",
              "      <td>51.157444</td>\n",
              "    </tr>\n",
              "    <tr>\n",
              "      <th>2</th>\n",
              "      <td>1578451133</td>\n",
              "      <td>2020-01-08T02:38:53Z</td>\n",
              "      <td>AUI752</td>\n",
              "      <td>35.412392,51.157951</td>\n",
              "      <td>0</td>\n",
              "      <td>19</td>\n",
              "      <td>109</td>\n",
              "      <td>35.412392</td>\n",
              "      <td>51.157951</td>\n",
              "    </tr>\n",
              "  </tbody>\n",
              "</table>\n",
              "</div>"
            ],
            "text/plain": [
              "    unix_time              UTC_time callsign  ... direction        lat       long\n",
              "0  1578451116  2020-01-08T02:38:36Z   AUI752  ...       109  35.412838  51.156380\n",
              "1  1578451127  2020-01-08T02:38:47Z   AUI752  ...       109  35.412533  51.157444\n",
              "2  1578451133  2020-01-08T02:38:53Z   AUI752  ...       109  35.412392  51.157951\n",
              "\n",
              "[3 rows x 9 columns]"
            ]
          },
          "metadata": {
            "tags": []
          },
          "execution_count": 156
        }
      ]
    },
    {
      "cell_type": "code",
      "metadata": {
        "id": "N6HfndOdxR3s"
      },
      "source": [
        "# rename the column names so they are lowercase and make a bit more sense\n",
        "\n",
        "df.columns = ['unix_time', 'UTC_time', 'callsign', 'position', 'altitude', 'speed', 'direction', 'lat', 'long']"
      ],
      "execution_count": null,
      "outputs": []
    },
    {
      "cell_type": "code",
      "metadata": {
        "id": "BgOnaCRSxVji",
        "outputId": "926288e3-7f4e-4313-d59d-3510234c49c1",
        "colab": {
          "base_uri": "https://localhost:8080/"
        }
      },
      "source": [
        "# check the datatypes\n",
        "\n",
        "df.dtypes"
      ],
      "execution_count": null,
      "outputs": [
        {
          "output_type": "execute_result",
          "data": {
            "text/plain": [
              "unix_time     int64\n",
              "UTC_time     object\n",
              "callsign     object\n",
              "position     object\n",
              "altitude      int64\n",
              "speed         int64\n",
              "direction     int64\n",
              "lat          object\n",
              "long         object\n",
              "dtype: object"
            ]
          },
          "metadata": {
            "tags": []
          },
          "execution_count": 153
        }
      ]
    },
    {
      "cell_type": "code",
      "metadata": {
        "id": "9hEVXyzGxaJ7"
      },
      "source": [
        "# note - the lat, long data was split as strings so shows up bonkers on a map. Has to be flipped to floats\n",
        "\n",
        "df.lat = df.lat.astype(float)\n",
        "df.long = df.long.astype(float)"
      ],
      "execution_count": null,
      "outputs": []
    },
    {
      "cell_type": "code",
      "metadata": {
        "id": "Ts8ZgR7OrHmD",
        "outputId": "df4f0c03-e56a-4f63-a70f-cb4ec1d7768e",
        "colab": {
          "base_uri": "https://localhost:8080/"
        }
      },
      "source": [
        "# check it worked\n",
        "\n",
        "df.dtypes"
      ],
      "execution_count": null,
      "outputs": [
        {
          "output_type": "execute_result",
          "data": {
            "text/plain": [
              "unix_time      int64\n",
              "UTC_time      object\n",
              "callsign      object\n",
              "position      object\n",
              "altitude       int64\n",
              "speed          int64\n",
              "direction      int64\n",
              "lat          float64\n",
              "long         float64\n",
              "dtype: object"
            ]
          },
          "metadata": {
            "tags": []
          },
          "execution_count": 157
        }
      ]
    },
    {
      "cell_type": "code",
      "metadata": {
        "id": "Fe2nLcgDxj9g",
        "outputId": "c9367f55-922f-4678-bd50-230bfe497de2",
        "colab": {
          "base_uri": "https://localhost:8080/",
          "height": 586
        }
      },
      "source": [
        "# plot the base map using matplotlib\n",
        "line_plot_fig, line_plot_ax = plt.subplots(figsize=(12,9))\n",
        "\n",
        "# plot the longitude and latitude, color and thickness of line\n",
        "line_plot_ax.plot(df.long, df.lat, 'black', linewidth=4)\n",
        "\n",
        "# show map\n",
        "mplleaflet.display(fig = line_plot_fig)\n"
      ],
      "execution_count": null,
      "outputs": [
        {
          "output_type": "execute_result",
          "data": {
            "text/html": [
              "<iframe src=\"data:text/html;base64,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\" width=\"100%\" height=\"540\"></iframe>"
            ],
            "text/plain": [
              "<IPython.core.display.HTML object>"
            ]
          },
          "metadata": {
            "tags": []
          },
          "execution_count": 160
        }
      ]
    },
    {
      "cell_type": "code",
      "metadata": {
        "id": "tV99cct_rrbQ"
      },
      "source": [
        "# save html file locally\n",
        "\n",
        "mplleaflet.show(fig=line_plot_fig, path='iran_map.html')"
      ],
      "execution_count": null,
      "outputs": []
    },
    {
      "cell_type": "code",
      "metadata": {
        "id": "Ygw5vCyCsKy0"
      },
      "source": [
        ""
      ],
      "execution_count": null,
      "outputs": []
    },
    {
      "cell_type": "markdown",
      "metadata": {
        "id": "G-_8uIhe15Z5"
      },
      "source": [
        "## Plot some points (folium)"
      ]
    },
    {
      "cell_type": "code",
      "metadata": {
        "id": "OatYzbCoxnXC"
      },
      "source": [
        "# coordinates for the tudor / clare crossroads just up from Jomec - this will let us centre the base map on this point\n",
        "\n",
        "xroads = [51.476757, -3.187637]"
      ],
      "execution_count": null,
      "outputs": []
    },
    {
      "cell_type": "code",
      "metadata": {
        "id": "40L9SDHI2HCX",
        "outputId": "8f8bf865-5444-42fa-e2c6-979d9aee4887",
        "colab": {
          "base_uri": "https://localhost:8080/",
          "height": 815
        }
      },
      "source": [
        "# build a base map using 'Stamen Toner' tiles\n",
        "\n",
        "m = folium.map = folium.Map(width=900, height=500, location = xroads, tiles = 'Stamen Toner', zoom_start = 13, zoom_control = True)\n",
        "\n",
        "m"
      ],
      "execution_count": null,
      "outputs": [
        {
          "output_type": "execute_result",
          "data": {
            "text/html": [
              "<div style=\"width:100%;\"><div style=\"position:relative;width:100%;height:0;padding-bottom:60%;\"><span style=\"color:#565656\">Make this Notebook Trusted to load map: File -> Trust Notebook</span><iframe src=\"about:blank\" style=\"position:absolute;width:100%;height:100%;left:0;top:0;border:none !important;\" data-html=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 onload=\"this.contentDocument.open();this.contentDocument.write(atob(this.getAttribute('data-html')));this.contentDocument.close();\" allowfullscreen webkitallowfullscreen mozallowfullscreen></iframe></div></div>"
            ],
            "text/plain": [
              "<folium.folium.Map at 0x7f2ac776ac50>"
            ]
          },
          "metadata": {
            "tags": []
          },
          "execution_count": 162
        }
      ]
    },
    {
      "cell_type": "code",
      "metadata": {
        "id": "vTLWhtiL2NsJ",
        "outputId": "496381ae-0306-4141-d959-baf548ec47d1",
        "colab": {
          "base_uri": "https://localhost:8080/",
          "height": 815
        }
      },
      "source": [
        "# build the base map again using watercolour and a tighter zoom\n",
        "\n",
        "m = folium.Map(width=900, height=500, location = xroads, tiles = 'stamenwatercolor', zoom_start = 17)\n",
        "\n",
        "m"
      ],
      "execution_count": null,
      "outputs": [
        {
          "output_type": "execute_result",
          "data": {
            "text/html": [
              "<div style=\"width:100%;\"><div style=\"position:relative;width:100%;height:0;padding-bottom:60%;\"><span style=\"color:#565656\">Make this Notebook Trusted to load map: File -> Trust Notebook</span><iframe src=\"about:blank\" style=\"position:absolute;width:100%;height:100%;left:0;top:0;border:none !important;\" data-html=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 onload=\"this.contentDocument.open();this.contentDocument.write(atob(this.getAttribute('data-html')));this.contentDocument.close();\" allowfullscreen webkitallowfullscreen mozallowfullscreen></iframe></div></div>"
            ],
            "text/plain": [
              "<folium.folium.Map at 0x7f2ac7700b00>"
            ]
          },
          "metadata": {
            "tags": []
          },
          "execution_count": 163
        }
      ]
    },
    {
      "cell_type": "code",
      "metadata": {
        "id": "ukpbyzXH2b8K",
        "outputId": "dc7ae884-4cd5-4bfd-cc53-c5a5bc086a8b",
        "colab": {
          "base_uri": "https://localhost:8080/",
          "height": 815
        }
      },
      "source": [
        "# build again, but with points you want to indicate\n",
        "\n",
        "# define the base map\n",
        "m = folium.Map(\n",
        "    width=1200, \n",
        "    height=900,\n",
        "    location=xroads,\n",
        "    zoom_start=14,\n",
        "    tiles='stamenwatercolor'\n",
        ")\n",
        "\n",
        "# build two points that use a tooltip\n",
        "tooltip = 'Jomec'\n",
        "folium.Marker([51.476410, -3.180213], popup='<i>JOMEC</i>', tooltip=tooltip).add_to(m)\n",
        "\n",
        "tooltip = 'Mainy Velodrome'\n",
        "folium.Marker([51.497122, -3.190819], popup='<i>JOMEC</i>', tooltip=tooltip).add_to(m)\n",
        "\n",
        "# build three points that don't use a tooltip\n",
        "folium.Marker(\n",
        "    location=[51.497342, -3.206623],\n",
        "    popup='Park Run',\n",
        "    icon=folium.Icon(icon='cloud', color = 'red')\n",
        ").add_to(m)\n",
        "\n",
        "folium.Marker(\n",
        "    location=[51.491535, -3.167486],\n",
        "    popup='Tennis courts - Mackintosh Sports Club',\n",
        "    icon=folium.Icon(color='orange')\n",
        ").add_to(m)\n",
        "\n",
        "folium.Marker(\n",
        "    location=[51.472697, -3.202948],\n",
        "    popup='Cardiff City Stadium',\n",
        "    icon=folium.Icon(color='red', icon='info-sign')\n",
        ").add_to(m)\n",
        "\n",
        "# show the map\n",
        "m"
      ],
      "execution_count": null,
      "outputs": [
        {
          "output_type": "execute_result",
          "data": {
            "text/html": [
              "<div style=\"width:100%;\"><div style=\"position:relative;width:100%;height:0;padding-bottom:60%;\"><span style=\"color:#565656\">Make this Notebook Trusted to load map: File -> Trust Notebook</span><iframe src=\"about:blank\" style=\"position:absolute;width:100%;height:100%;left:0;top:0;border:none !important;\" data-html=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 onload=\"this.contentDocument.open();this.contentDocument.write(atob(this.getAttribute('data-html')));this.contentDocument.close();\" allowfullscreen webkitallowfullscreen mozallowfullscreen></iframe></div></div>"
            ],
            "text/plain": [
              "<folium.folium.Map at 0x7f2ac75fae48>"
            ]
          },
          "metadata": {
            "tags": []
          },
          "execution_count": 165
        }
      ]
    },
    {
      "cell_type": "code",
      "metadata": {
        "id": "mGYlx73z29kj"
      },
      "source": [
        "# export locally\n",
        "\n",
        "m.save('watercolour_cardiff_points.html')\n",
        "\n",
        "# this gets saved at the route of this notebook's file structure (see left-hand column). You can download it locally.\n",
        "# its path is described as '/content/watercolour_cardiff_points.html'"
      ],
      "execution_count": null,
      "outputs": []
    },
    {
      "cell_type": "code",
      "metadata": {
        "id": "rLOBtjGurC-R"
      },
      "source": [
        ""
      ],
      "execution_count": null,
      "outputs": []
    }
  ]
}