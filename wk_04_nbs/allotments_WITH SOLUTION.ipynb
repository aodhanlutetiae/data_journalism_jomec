{
 "cells": [
  {
   "cell_type": "markdown",
   "metadata": {
    "id": "L4JRo9Ht3HEO"
   },
   "source": [
    "### Run the cells in the first section (\"Run these cells\") just to get the variable 'd' up and running, then ignore them"
   ]
  },
  {
   "cell_type": "markdown",
   "metadata": {
    "id": "eJA4Bt-HyzKo"
   },
   "source": [
    "## Run these cells"
   ]
  },
  {
   "cell_type": "code",
   "execution_count": 2,
   "metadata": {
    "executionInfo": {
     "elapsed": 810,
     "status": "ok",
     "timestamp": 1698219969199,
     "user": {
      "displayName": "Aidan O'Donnell",
      "userId": "01353573035188320738"
     },
     "user_tz": -60
    },
    "id": "eamr7rbXgMIh"
   },
   "outputs": [],
   "source": [
    "# import the pandas library\n",
    "\n",
    "import pandas as pd\n"
   ]
  },
  {
   "cell_type": "code",
   "execution_count": 3,
   "metadata": {
    "colab": {
     "base_uri": "https://localhost:8080/",
     "height": 113
    },
    "executionInfo": {
     "elapsed": 23869,
     "status": "ok",
     "timestamp": 1698233862995,
     "user": {
      "displayName": "Aidan O'Donnell",
      "userId": "01353573035188320738"
     },
     "user_tz": -60
    },
    "id": "RY7Yo76FgWVa",
    "outputId": "30d149c8-dbfb-4d3c-b5e4-da620d2be387"
   },
   "outputs": [],
   "source": [
    "# upload the two files from your local machine (or just one but then adjust the next cell accordingly)\n",
    "path = '/Users/aidanadmin/Documents/Data/ALL_DATASETS/'\n",
    "\n",
    "file = 'allotments_metros.csv'\n",
    "file2 = 'allotments_london.csv'\n",
    "\n",
    "metro = pd.read_csv(path + file)\n",
    "lon = pd.read_csv(path + file2)"
   ]
  },
  {
   "cell_type": "code",
   "execution_count": 4,
   "metadata": {
    "executionInfo": {
     "elapsed": 219,
     "status": "ok",
     "timestamp": 1698233869030,
     "user": {
      "displayName": "Aidan O'Donnell",
      "userId": "01353573035188320738"
     },
     "user_tz": -60
    },
    "id": "O3CKFUkogmmO"
   },
   "outputs": [],
   "source": [
    "# extract a dictionary of keys and values from the dataframe\n",
    "\n",
    "d = pd.DataFrame.to_dict(metro, orient = 'records')"
   ]
  },
  {
   "cell_type": "code",
   "execution_count": 5,
   "metadata": {
    "colab": {
     "base_uri": "https://localhost:8080/"
    },
    "executionInfo": {
     "elapsed": 232,
     "status": "ok",
     "timestamp": 1698233872539,
     "user": {
      "displayName": "Aidan O'Donnell",
      "userId": "01353573035188320738"
     },
     "user_tz": -60
    },
    "id": "2GXhi8-5hF5u",
    "outputId": "dff8a3a3-d36d-45db-fa15-9ea4ad4ebdb8"
   },
   "outputs": [
    {
     "name": "stdout",
     "output_type": "stream",
     "text": [
      "36\n"
     ]
    }
   ],
   "source": [
    "# how many elements in this list of dictionaries?\n",
    "\n",
    "print(len(d))"
   ]
  },
  {
   "cell_type": "markdown",
   "metadata": {
    "id": "AbuFoqyOhI8c"
   },
   "source": [
    "## Write your function using your dictionary d"
   ]
  },
  {
   "cell_type": "code",
   "execution_count": 16,
   "metadata": {
    "colab": {
     "base_uri": "https://localhost:8080/"
    },
    "executionInfo": {
     "elapsed": 282,
     "status": "ok",
     "timestamp": 1698233940130,
     "user": {
      "displayName": "Aidan O'Donnell",
      "userId": "01353573035188320738"
     },
     "user_tz": -60
    },
    "id": "TjhFDADloP25",
    "outputId": "4dd01bea-64bc-4928-a43d-6446869c94ae"
   },
   "outputs": [
    {
     "data": {
      "text/plain": [
       "list"
      ]
     },
     "execution_count": 16,
     "metadata": {},
     "output_type": "execute_result"
    }
   ],
   "source": [
    " # what exactly is 'd'? (you could just look at it too)\n",
    " type(d)"
   ]
  },
  {
   "cell_type": "code",
   "execution_count": 163,
   "metadata": {
    "colab": {
     "base_uri": "https://localhost:8080/"
    },
    "executionInfo": {
     "elapsed": 329,
     "status": "ok",
     "timestamp": 1698237870078,
     "user": {
      "displayName": "Aidan O'Donnell",
      "userId": "01353573035188320738"
     },
     "user_tz": -60
    },
    "id": "se-8qL-9gvq7",
    "outputId": "b675673c-b9a4-4f61-998a-52a863f52f3f"
   },
   "outputs": [
    {
     "data": {
      "text/plain": [
       "{'Metropolitan Council': 'Bolton Borough Council ',\n",
       " 'Metropolitan county': 'Greater Manchester',\n",
       " 'Population': '296,000',\n",
       " 'Number of sites (Council run)': 36.0,\n",
       " 'Number of sites (Independent run)': 'Not held',\n",
       " 'Number of plots (Council run)': '944',\n",
       " 'Number of plots (Independent run)': 'Not held',\n",
       " 'Approx total acres': 'Not held',\n",
       " 'Average cost of a plot (annually)': '£70 ',\n",
       " 'Lowest cost of a plot or partial plot (annualy)': '£10.71',\n",
       " 'Highest cost of a plot (annually)': '£119.28',\n",
       " 'Discounts available for consessions/groups? (Y/N)': 'Y',\n",
       " 'Are any plots immediately available? Y/N': 'N',\n",
       " 'Are any waitlists currently closed? Y/N\\nHow many waitlists are currently closed?': 'Y',\n",
       " 'Additional notes': '36 wait lists closed.\\nMany are unavailable for 5 years even.\\nHighest cost of a plot £326.74 (horse plot which is a combination of plots together) or £119.28 (single plot)'}"
      ]
     },
     "execution_count": 163,
     "metadata": {},
     "output_type": "execute_result"
    }
   ],
   "source": [
    "# what's the third item in this list?\n",
    "\n",
    "d[2]"
   ]
  },
  {
   "cell_type": "code",
   "execution_count": null,
   "metadata": {
    "id": "2onk1-iwgxT3"
   },
   "outputs": [],
   "source": [
    "# what kind of thing is one of the items in the list?"
   ]
  },
  {
   "cell_type": "code",
   "execution_count": 17,
   "metadata": {
    "colab": {
     "base_uri": "https://localhost:8080/"
    },
    "executionInfo": {
     "elapsed": 280,
     "status": "ok",
     "timestamp": 1698233968114,
     "user": {
      "displayName": "Aidan O'Donnell",
      "userId": "01353573035188320738"
     },
     "user_tz": -60
    },
    "id": "HbRznI-LoZnZ",
    "outputId": "11612a29-5652-4c3f-af1a-5e1ec0575e77"
   },
   "outputs": [
    {
     "data": {
      "text/plain": [
       "dict"
      ]
     },
     "execution_count": 17,
     "metadata": {},
     "output_type": "execute_result"
    }
   ],
   "source": [
    "type(d[2])"
   ]
  },
  {
   "cell_type": "code",
   "execution_count": 18,
   "metadata": {
    "colab": {
     "base_uri": "https://localhost:8080/",
     "height": 36
    },
    "executionInfo": {
     "elapsed": 226,
     "status": "ok",
     "timestamp": 1698233999911,
     "user": {
      "displayName": "Aidan O'Donnell",
      "userId": "01353573035188320738"
     },
     "user_tz": -60
    },
    "id": "ZbC92LaPoePA",
    "outputId": "e44b1576-4adb-45b8-8d3c-3095eceec812"
   },
   "outputs": [
    {
     "data": {
      "application/vnd.google.colaboratory.intrinsic+json": {
       "type": "string"
      },
      "text/plain": [
       "'296,000'"
      ]
     },
     "execution_count": 18,
     "metadata": {},
     "output_type": "execute_result"
    }
   ],
   "source": [
    "# can I drill into a single dictionary and get the value for a key: 'population' for example?\n",
    "\n",
    "d[2]['Population']"
   ]
  },
  {
   "cell_type": "code",
   "execution_count": null,
   "metadata": {
    "id": "4lCiiuC1omAg"
   },
   "outputs": [],
   "source": [
    "# can I loop through the list and do something simple with each element, like print it?\n",
    "for x in d:\n",
    "  print(x)"
   ]
  },
  {
   "cell_type": "code",
   "execution_count": null,
   "metadata": {
    "id": "F4UwarAGosmN"
   },
   "outputs": [],
   "source": [
    "# can I loop through the list and instead of printing each dictionary completely, just print part of it, the value for 'Population' for example?\n",
    "for x in d:\n",
    "  print(x['Population'])"
   ]
  },
  {
   "cell_type": "code",
   "execution_count": null,
   "metadata": {
    "id": "oiD8ABqOo91x"
   },
   "outputs": [],
   "source": [
    "# can I loop through the list and print several parts?\n",
    "for x in d:\n",
    "  print(x['Metropolitan Council'])\n",
    "  print(x['Population'])\n",
    "  print(x['Number of plots (Council run)'])"
   ]
  },
  {
   "cell_type": "code",
   "execution_count": null,
   "metadata": {
    "id": "j6lEUX7qpHKX"
   },
   "outputs": [],
   "source": [
    "# can I add an if statement to only do this if a condition is met? (ATT: the council names seem to have an empty space at the end in this dataset)\n",
    "\n",
    "for x in d:\n",
    "  if x['Metropolitan Council'] == 'Bolton Borough Council ':\n",
    "    print(x['Population'])\n",
    "    print(x['Number of plots (Council run)'])\n",
    "  else:\n",
    "    print('nope')"
   ]
  },
  {
   "cell_type": "code",
   "execution_count": 31,
   "metadata": {
    "colab": {
     "base_uri": "https://localhost:8080/"
    },
    "executionInfo": {
     "elapsed": 221,
     "status": "ok",
     "timestamp": 1698234464801,
     "user": {
      "displayName": "Aidan O'Donnell",
      "userId": "01353573035188320738"
     },
     "user_tz": -60
    },
    "id": "4JUqsQzipntL",
    "outputId": "a6bf3855-21a3-4130-bb49-a409a746d4ff"
   },
   "outputs": [
    {
     "name": "stdout",
     "output_type": "stream",
     "text": [
      "296,000\n",
      "944\n"
     ]
    }
   ],
   "source": [
    "# assign the values to variables, lose the 'nope'\n",
    "for x in d:\n",
    "  pop = x['Population']\n",
    "  plots_nb_c = x['Number of plots (Council run)']\n",
    "  if x['Metropolitan Council'] == 'Bolton Borough Council ':\n",
    "    print(pop)\n",
    "    print(plots_nb_c)\n",
    "  else:\n",
    "    pass  # do nothing"
   ]
  },
  {
   "cell_type": "code",
   "execution_count": 34,
   "metadata": {
    "colab": {
     "base_uri": "https://localhost:8080/"
    },
    "executionInfo": {
     "elapsed": 217,
     "status": "ok",
     "timestamp": 1698234546096,
     "user": {
      "displayName": "Aidan O'Donnell",
      "userId": "01353573035188320738"
     },
     "user_tz": -60
    },
    "id": "tBJCks-QqU4R",
    "outputId": "0dc5ff0e-f12b-4bc7-ad85-ce037e68940a"
   },
   "outputs": [
    {
     "name": "stdout",
     "output_type": "stream",
     "text": [
      "There are 296,000 people in Bolton Borough Council and the council runs 944 allotments\n"
     ]
    }
   ],
   "source": [
    "# Put the two values into an f-string\n",
    "\n",
    "for x in d:\n",
    "  pop = x['Population']\n",
    "  plots_nb_c = x['Number of plots (Council run)']\n",
    "  if x['Metropolitan Council'] == 'Bolton Borough Council ':\n",
    "    print(f'There are {pop} people in Bolton Borough Council and the council runs {plots_nb_c} allotments')\n",
    "  else:\n",
    "    pass  # do nothing (we don't actually need this. We could just leave out the 'else' part)"
   ]
  },
  {
   "cell_type": "code",
   "execution_count": 132,
   "metadata": {
    "executionInfo": {
     "elapsed": 211,
     "status": "ok",
     "timestamp": 1698237413868,
     "user": {
      "displayName": "Aidan O'Donnell",
      "userId": "01353573035188320738"
     },
     "user_tz": -60
    },
    "id": "kCM6iILhqoDy"
   },
   "outputs": [],
   "source": [
    "# Put this code into a function where the argument is the exact name of the council\n",
    "\n",
    "def make_info(place):\n",
    "\n",
    "  for x in d:\n",
    "    pop = x['Population']\n",
    "    plots_nb_c = x['Number of plots (Council run)']\n",
    "\n",
    "    # if the value for 'Metropolitan Council' is the same as the argument put in by the user...\n",
    "    if x['Metropolitan Council'] == place:\n",
    "      # use the 'place' argument / variable as the place name\n",
    "      return f'There are {pop} people in {place} and the council runs {plots_nb_c} allotments'\n"
   ]
  },
  {
   "cell_type": "code",
   "execution_count": 133,
   "metadata": {
    "colab": {
     "base_uri": "https://localhost:8080/",
     "height": 36
    },
    "executionInfo": {
     "elapsed": 211,
     "status": "ok",
     "timestamp": 1698237414803,
     "user": {
      "displayName": "Aidan O'Donnell",
      "userId": "01353573035188320738"
     },
     "user_tz": -60
    },
    "id": "gTX9zKITsWNA",
    "outputId": "91e01b48-006f-4525-f90e-4f43767e5c19"
   },
   "outputs": [
    {
     "data": {
      "application/vnd.google.colaboratory.intrinsic+json": {
       "type": "string"
      },
      "text/plain": [
       "'There are 296,000 people in Bolton Borough Council  and the council runs 944 allotments'"
      ]
     },
     "execution_count": 133,
     "metadata": {},
     "output_type": "execute_result"
    }
   ],
   "source": [
    "# works as a function\n",
    "\n",
    "make_info('Bolton Borough Council ')"
   ]
  },
  {
   "cell_type": "code",
   "execution_count": 60,
   "metadata": {
    "colab": {
     "base_uri": "https://localhost:8080/"
    },
    "executionInfo": {
     "elapsed": 214,
     "status": "ok",
     "timestamp": 1698235540315,
     "user": {
      "displayName": "Aidan O'Donnell",
      "userId": "01353573035188320738"
     },
     "user_tz": -60
    },
    "id": "0CnF7O2Jsf--",
    "outputId": "bdc9a48d-f357-4cc4-f27f-7820d5e8ec95"
   },
   "outputs": [
    {
     "name": "stdout",
     "output_type": "stream",
     "text": [
      "There are 193,900 people in Bury Borough Council  and the council runs 17 allotments\n"
     ]
    }
   ],
   "source": [
    "# works for any place\n",
    "\n",
    "make_info('Bury Borough Council ')"
   ]
  },
  {
   "cell_type": "markdown",
   "metadata": {
    "id": "NgA9OZH7tk8S"
   },
   "source": [
    "## Refine"
   ]
  },
  {
   "cell_type": "code",
   "execution_count": 134,
   "metadata": {
    "executionInfo": {
     "elapsed": 200,
     "status": "ok",
     "timestamp": 1698237424123,
     "user": {
      "displayName": "Aidan O'Donnell",
      "userId": "01353573035188320738"
     },
     "user_tz": -60
    },
    "id": "VFDT-6HZsldg"
   },
   "outputs": [],
   "source": [
    "# Make a new function - if the user only puts in 'Bolton' we should get a result\n",
    "\n",
    "def make_info_refined (place):\n",
    "\n",
    "  for x in d:\n",
    "    pop = x['Population']\n",
    "    plots_nb_c = x['Number of plots (Council run)']\n",
    "\n",
    "    # if the argument from the user IS CONTAINED IN (we just use 'in') the value for x['Metropolitan Council']...\n",
    "    if place in x['Metropolitan Council']:\n",
    "      # use the 'place' argument / variable as the place name\n",
    "      return f'There are {pop} people in {place} and the council runs {plots_nb_c} allotments'"
   ]
  },
  {
   "cell_type": "code",
   "execution_count": 135,
   "metadata": {
    "colab": {
     "base_uri": "https://localhost:8080/",
     "height": 36
    },
    "executionInfo": {
     "elapsed": 309,
     "status": "ok",
     "timestamp": 1698237425381,
     "user": {
      "displayName": "Aidan O'Donnell",
      "userId": "01353573035188320738"
     },
     "user_tz": -60
    },
    "id": "Crwd_I60uK5g",
    "outputId": "f85f6f7e-f4dd-4356-ffc7-9c7282831325"
   },
   "outputs": [
    {
     "data": {
      "application/vnd.google.colaboratory.intrinsic+json": {
       "type": "string"
      },
      "text/plain": [
       "'There are 296,000 people in Bolton and the council runs 944 allotments'"
      ]
     },
     "execution_count": 135,
     "metadata": {},
     "output_type": "execute_result"
    }
   ],
   "source": [
    "make_info_refined('Bolton')"
   ]
  },
  {
   "cell_type": "code",
   "execution_count": 136,
   "metadata": {
    "executionInfo": {
     "elapsed": 217,
     "status": "ok",
     "timestamp": 1698237427541,
     "user": {
      "displayName": "Aidan O'Donnell",
      "userId": "01353573035188320738"
     },
     "user_tz": -60
    },
    "id": "xyguS0uvuR2V"
   },
   "outputs": [],
   "source": [
    "# if the user puts in 'bolton' with a lowercase B, it fails\n",
    "\n",
    "make_info_refined('bolton')"
   ]
  },
  {
   "cell_type": "code",
   "execution_count": 137,
   "metadata": {
    "executionInfo": {
     "elapsed": 343,
     "status": "ok",
     "timestamp": 1698237435066,
     "user": {
      "displayName": "Aidan O'Donnell",
      "userId": "01353573035188320738"
     },
     "user_tz": -60
    },
    "id": "e7Gn_bv5uonU"
   },
   "outputs": [],
   "source": [
    "# should handle Bolton or bolton\n",
    "\n",
    "def make_info_refined (place):\n",
    "\n",
    "  for x in d:\n",
    "    pop = x['Population']\n",
    "    plots_nb_c = x['Number of plots (Council run)']\n",
    "    # assign this part to a variable\n",
    "    loc = x['Metropolitan Council']\n",
    "\n",
    "    # if the user's word is in our variable loc OR our variable loc all in lowercase\n",
    "    if place in loc or place in loc.lower():\n",
    "      # use the 'place' argument / variable as the place name\n",
    "\n",
    "      return f'There are {pop} people in {place} and the council runs {plots_nb_c} allotments.'"
   ]
  },
  {
   "cell_type": "code",
   "execution_count": 138,
   "metadata": {
    "colab": {
     "base_uri": "https://localhost:8080/",
     "height": 36
    },
    "executionInfo": {
     "elapsed": 206,
     "status": "ok",
     "timestamp": 1698237436970,
     "user": {
      "displayName": "Aidan O'Donnell",
      "userId": "01353573035188320738"
     },
     "user_tz": -60
    },
    "id": "4wUBwu5EurhZ",
    "outputId": "edf58f60-53c3-4c37-90a6-b859156c5e64"
   },
   "outputs": [
    {
     "data": {
      "application/vnd.google.colaboratory.intrinsic+json": {
       "type": "string"
      },
      "text/plain": [
       "'There are 551,900 people in manchester and the council runs 2781 allotments.'"
      ]
     },
     "execution_count": 138,
     "metadata": {},
     "output_type": "execute_result"
    }
   ],
   "source": [
    "# test\n",
    "\n",
    "make_info_refined('manchester')"
   ]
  },
  {
   "cell_type": "code",
   "execution_count": 172,
   "metadata": {
    "colab": {
     "base_uri": "https://localhost:8080/"
    },
    "executionInfo": {
     "elapsed": 225,
     "status": "ok",
     "timestamp": 1698238339509,
     "user": {
      "displayName": "Aidan O'Donnell",
      "userId": "01353573035188320738"
     },
     "user_tz": -60
    },
    "id": "W9CNIMm9wKbV",
    "outputId": "a4acaee7-393b-4b16-fa97-7866c0cf083b"
   },
   "outputs": [
    {
     "data": {
      "text/plain": [
       "{'Metropolitan Council': 'North Tyneside Borough Council ',\n",
       " 'Metropolitan county': 'Tyne and Wear',\n",
       " 'Population': '209,000',\n",
       " 'Number of sites (Council run)': 48.0,\n",
       " 'Number of sites (Independent run)': '13',\n",
       " 'Number of plots (Council run)': '1308',\n",
       " 'Number of plots (Independent run)': '768',\n",
       " 'Approx total acres': '135',\n",
       " 'Average cost of a plot (annually)': '£110 ',\n",
       " 'Lowest cost of a plot or partial plot (annualy)': '£21.50',\n",
       " 'Highest cost of a plot (annually)': '£316.20',\n",
       " 'Discounts available for consessions/groups? (Y/N)': 'N',\n",
       " 'Are any plots immediately available? Y/N': 'N',\n",
       " 'Are any waitlists currently closed? Y/N\\nHow many waitlists are currently closed?': 'N',\n",
       " 'Additional notes': nan}"
      ]
     },
     "execution_count": 172,
     "metadata": {},
     "output_type": "execute_result"
    }
   ],
   "source": [
    "# remind me what's in one of these dictionaries\n",
    "\n",
    "d[15]"
   ]
  },
  {
   "cell_type": "code",
   "execution_count": 173,
   "metadata": {
    "executionInfo": {
     "elapsed": 199,
     "status": "ok",
     "timestamp": 1698238351245,
     "user": {
      "displayName": "Aidan O'Donnell",
      "userId": "01353573035188320738"
     },
     "user_tz": -60
    },
    "id": "3zbCk9nSusRH"
   },
   "outputs": [],
   "source": [
    "# Add copy to the function\n",
    "\n",
    "def make_info_refined (place):\n",
    "\n",
    "  \"\"\"function that takes a string as argument and, if that string is contained in one of the council areas in the dataset, returns some information for\n",
    "  that council area\"\"\"\n",
    "\n",
    "  for x in d:\n",
    "    loc = x['Metropolitan Council']\n",
    "    pop = x['Population']\n",
    "    sites_c = x['Number of sites (Council run)']\n",
    "    sites_i = x['Number of sites (Independent run)']\n",
    "    plots_nb_c = x['Number of plots (Council run)']\n",
    "    plots_nb_i = x['Number of plots (Independent run)']\n",
    "    acres = x['Approx total acres']\n",
    "    av_cost = x['Average cost of a plot (annually)']\n",
    "\n",
    "    if place in loc or place in loc.lower():\n",
    "\n",
    "      return f'The council in {place} runs {plots_nb_c} allotments over {sites_c} sites for a population of about {pop}. There are also {sites_i} independently-run sites, with {plots_nb_i} allotments. This makes for {acres} acres of allotments in all for {place}. The annual cost of one of these, on average, is {av_cost}.'\n",
    "\n"
   ]
  },
  {
   "cell_type": "code",
   "execution_count": 174,
   "metadata": {
    "colab": {
     "base_uri": "https://localhost:8080/",
     "height": 54
    },
    "executionInfo": {
     "elapsed": 14,
     "status": "ok",
     "timestamp": 1698238352031,
     "user": {
      "displayName": "Aidan O'Donnell",
      "userId": "01353573035188320738"
     },
     "user_tz": -60
    },
    "id": "qFQ4_lj2uwNR",
    "outputId": "de17134b-5ee3-42c4-a518-eed2dda701cf"
   },
   "outputs": [
    {
     "data": {
      "application/vnd.google.colaboratory.intrinsic+json": {
       "type": "string"
      },
      "text/plain": [
       "'The council in Salford runs 143 allotments over 9.0 sites for a population of about 269,900. There are also 17 independently-run sites, with 497 allotments. This makes for 44.65 acres of allotments in all for Salford. The annual cost of one of these, on average, is £66.11 .'"
      ]
     },
     "execution_count": 174,
     "metadata": {},
     "output_type": "execute_result"
    }
   ],
   "source": [
    "# works when we have data for all variables\n",
    "\n",
    "make_info_refined('Salford')"
   ]
  },
  {
   "cell_type": "code",
   "execution_count": 175,
   "metadata": {
    "colab": {
     "base_uri": "https://localhost:8080/",
     "height": 54
    },
    "executionInfo": {
     "elapsed": 328,
     "status": "ok",
     "timestamp": 1698238364810,
     "user": {
      "displayName": "Aidan O'Donnell",
      "userId": "01353573035188320738"
     },
     "user_tz": -60
    },
    "id": "YL0I8Nulxdlk",
    "outputId": "1a41ff8e-fa88-46fd-8f86-1e05c6314e05"
   },
   "outputs": [
    {
     "data": {
      "application/vnd.google.colaboratory.intrinsic+json": {
       "type": "string"
      },
      "text/plain": [
       "'The council in Leeds runs 913 allotments over 46.0 sites for a population of about 812,000. There are also 58 independently-run sites, with Not held allotments. This makes for 37.4 acres of allotments in all for Leeds. The annual cost of one of these, on average, is £46.42 .'"
      ]
     },
     "execution_count": 175,
     "metadata": {},
     "output_type": "execute_result"
    }
   ],
   "source": [
    "# BUT has problems when we're missing data\n",
    "\n",
    "make_info_refined('Leeds')"
   ]
  },
  {
   "cell_type": "code",
   "execution_count": 171,
   "metadata": {
    "executionInfo": {
     "elapsed": 197,
     "status": "ok",
     "timestamp": 1698238170948,
     "user": {
      "displayName": "Aidan O'Donnell",
      "userId": "01353573035188320738"
     },
     "user_tz": -60
    },
    "id": "LwMe50zx4faY"
   },
   "outputs": [],
   "source": [
    "make_info_refined('London')"
   ]
  },
  {
   "cell_type": "markdown",
   "metadata": {
    "id": "vWT6g1zY30ZR"
   },
   "source": [
    "## ---------------------------- The End (for now)---------------------------"
   ]
  },
  {
   "cell_type": "markdown",
   "metadata": {
    "id": "Eiqo2JGFxijy"
   },
   "source": [
    "## Further development?\n",
    "> Not necessarily in this order!!\n",
    "\n",
    "- some variables are are Y/N so to include them we probably need an if / else\n",
    "- sometimes we get 'Not held' instead of a number in our text. Needs an if / else with an alternative sentence.\n",
    "- we could return a total number of plots (council and independent)\n",
    "- we could calculate and return some rate of plots per head of population\n",
    "- some numbers come back as floats (36.0) when integers would read better\n",
    "- Coventry has 0 sites but lots of plots? (the only case)\n",
    "- Many style guides would expect numbers below 10 to be written out fully\n",
    "- Average plot cost has a trailing space which needs fixing\n",
    "- Should return a message if the user enters something we don't have in the data, Dublin for example"
   ]
  },
  {
   "cell_type": "code",
   "execution_count": null,
   "metadata": {
    "id": "t4-GbnGbxeS2"
   },
   "outputs": [],
   "source": []
  }
 ],
 "metadata": {
  "colab": {
   "authorship_tag": "ABX9TyO6GH21F5Go3uwpof0oeSuH",
   "collapsed_sections": [
    "eJA4Bt-HyzKo"
   ],
   "provenance": []
  },
  "kernelspec": {
   "display_name": "Python 3 (ipykernel)",
   "language": "python",
   "name": "python3"
  },
  "language_info": {
   "codemirror_mode": {
    "name": "ipython",
    "version": 3
   },
   "file_extension": ".py",
   "mimetype": "text/x-python",
   "name": "python",
   "nbconvert_exporter": "python",
   "pygments_lexer": "ipython3",
   "version": "3.11.4"
  }
 },
 "nbformat": 4,
 "nbformat_minor": 4
}
