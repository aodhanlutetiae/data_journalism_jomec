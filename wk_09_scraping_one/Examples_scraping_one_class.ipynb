{
  "nbformat": 4,
  "nbformat_minor": 0,
  "metadata": {
    "colab": {
      "name": "Examples scraping one class.ipynb",
      "provenance": [],
      "collapsed_sections": [
        "1BqLjVdzVcp4",
        "DxGlk0Jvjzpz",
        "BjCUSHMYweUB",
        "FBAy15WmaeMS"
      ]
    },
    "kernelspec": {
      "name": "python3",
      "display_name": "Python 3"
    }
  },
  "cells": [
    {
      "cell_type": "markdown",
      "metadata": {
        "id": "1BqLjVdzVcp4"
      },
      "source": [
        "## Imports & simple example with some bs syntax"
      ]
    },
    {
      "cell_type": "code",
      "metadata": {
        "id": "v1p-PqOgeuHK"
      },
      "source": [
        "import requests\n",
        "from bs4 import BeautifulSoup as bs\n",
        "import pandas as pd\n"
      ],
      "execution_count": 13,
      "outputs": []
    },
    {
      "cell_type": "code",
      "metadata": {
        "id": "GYaftKuNe7hP"
      },
      "source": [
        "url = 'http://pythonscraping.com/pages/page1.html'\n",
        "req = requests.get(url)\n",
        "soup = bs(req.content)"
      ],
      "execution_count": 14,
      "outputs": []
    },
    {
      "cell_type": "code",
      "metadata": {
        "colab": {
          "base_uri": "https://localhost:8080/"
        },
        "id": "c5hQtVv3itsH",
        "outputId": "49a0c3a3-44f5-4870-a533-f0086648a017"
      },
      "source": [
        "req.content"
      ],
      "execution_count": 15,
      "outputs": [
        {
          "output_type": "execute_result",
          "data": {
            "text/plain": [
              "b'<html>\\n<head>\\n<title>A Useful Page</title>\\n</head>\\n<body>\\n<h1>An Interesting Title</h1>\\n<div>\\nLorem ipsum dolor sit amet, consectetur adipisicing elit, sed do eiusmod tempor incididunt ut labore et dolore magna aliqua. Ut enim ad minim veniam, quis nostrud exercitation ullamco laboris nisi ut aliquip ex ea commodo consequat. Duis aute irure dolor in reprehenderit in voluptate velit esse cillum dolore eu fugiat nulla pariatur. Excepteur sint occaecat cupidatat non proident, sunt in culpa qui officia deserunt mollit anim id est laborum.\\n</div>\\n</body>\\n</html>\\n'"
            ]
          },
          "metadata": {
            "tags": []
          },
          "execution_count": 15
        }
      ]
    },
    {
      "cell_type": "code",
      "metadata": {
        "colab": {
          "base_uri": "https://localhost:8080/",
          "height": 88
        },
        "id": "zVtM1idhiu7Z",
        "outputId": "883de93f-e707-4449-cd77-0da7bbc1f107"
      },
      "source": [
        "req.text"
      ],
      "execution_count": 16,
      "outputs": [
        {
          "output_type": "execute_result",
          "data": {
            "application/vnd.google.colaboratory.intrinsic+json": {
              "type": "string"
            },
            "text/plain": [
              "'<html>\\n<head>\\n<title>A Useful Page</title>\\n</head>\\n<body>\\n<h1>An Interesting Title</h1>\\n<div>\\nLorem ipsum dolor sit amet, consectetur adipisicing elit, sed do eiusmod tempor incididunt ut labore et dolore magna aliqua. Ut enim ad minim veniam, quis nostrud exercitation ullamco laboris nisi ut aliquip ex ea commodo consequat. Duis aute irure dolor in reprehenderit in voluptate velit esse cillum dolore eu fugiat nulla pariatur. Excepteur sint occaecat cupidatat non proident, sunt in culpa qui officia deserunt mollit anim id est laborum.\\n</div>\\n</body>\\n</html>\\n'"
            ]
          },
          "metadata": {
            "tags": []
          },
          "execution_count": 16
        }
      ]
    },
    {
      "cell_type": "code",
      "metadata": {
        "colab": {
          "base_uri": "https://localhost:8080/"
        },
        "id": "pUTzJx-NhdPk",
        "outputId": "9b682ad0-701d-40d0-d631-21e36de0cd9b"
      },
      "source": [
        "soup"
      ],
      "execution_count": 17,
      "outputs": [
        {
          "output_type": "execute_result",
          "data": {
            "text/plain": [
              "<html>\n",
              "<head>\n",
              "<title>A Useful Page</title>\n",
              "</head>\n",
              "<body>\n",
              "<h1>An Interesting Title</h1>\n",
              "<div>\n",
              "Lorem ipsum dolor sit amet, consectetur adipisicing elit, sed do eiusmod tempor incididunt ut labore et dolore magna aliqua. Ut enim ad minim veniam, quis nostrud exercitation ullamco laboris nisi ut aliquip ex ea commodo consequat. Duis aute irure dolor in reprehenderit in voluptate velit esse cillum dolore eu fugiat nulla pariatur. Excepteur sint occaecat cupidatat non proident, sunt in culpa qui officia deserunt mollit anim id est laborum.\n",
              "</div>\n",
              "</body>\n",
              "</html>"
            ]
          },
          "metadata": {
            "tags": []
          },
          "execution_count": 17
        }
      ]
    },
    {
      "cell_type": "code",
      "metadata": {
        "colab": {
          "base_uri": "https://localhost:8080/"
        },
        "id": "TJs5skTJ5Csj",
        "outputId": "f9ac8b24-c074-4989-b13b-d68b9113568c"
      },
      "source": [
        "soup.h1"
      ],
      "execution_count": 18,
      "outputs": [
        {
          "output_type": "execute_result",
          "data": {
            "text/plain": [
              "<h1>An Interesting Title</h1>"
            ]
          },
          "metadata": {
            "tags": []
          },
          "execution_count": 18
        }
      ]
    },
    {
      "cell_type": "code",
      "metadata": {
        "colab": {
          "base_uri": "https://localhost:8080/",
          "height": 36
        },
        "id": "hlsf0sjuhqyj",
        "outputId": "6acbb25c-f3b7-4a80-bff5-4b9710de974a"
      },
      "source": [
        "soup.h1.text"
      ],
      "execution_count": 19,
      "outputs": [
        {
          "output_type": "execute_result",
          "data": {
            "application/vnd.google.colaboratory.intrinsic+json": {
              "type": "string"
            },
            "text/plain": [
              "'An Interesting Title'"
            ]
          },
          "metadata": {
            "tags": []
          },
          "execution_count": 19
        }
      ]
    },
    {
      "cell_type": "code",
      "metadata": {
        "colab": {
          "base_uri": "https://localhost:8080/",
          "height": 71
        },
        "id": "IdAhHFChfEVH",
        "outputId": "1cafb309-a870-43a7-b681-e8a726b2d149"
      },
      "source": [
        "soup.div.text"
      ],
      "execution_count": 20,
      "outputs": [
        {
          "output_type": "execute_result",
          "data": {
            "application/vnd.google.colaboratory.intrinsic+json": {
              "type": "string"
            },
            "text/plain": [
              "'\\nLorem ipsum dolor sit amet, consectetur adipisicing elit, sed do eiusmod tempor incididunt ut labore et dolore magna aliqua. Ut enim ad minim veniam, quis nostrud exercitation ullamco laboris nisi ut aliquip ex ea commodo consequat. Duis aute irure dolor in reprehenderit in voluptate velit esse cillum dolore eu fugiat nulla pariatur. Excepteur sint occaecat cupidatat non proident, sunt in culpa qui officia deserunt mollit anim id est laborum.\\n'"
            ]
          },
          "metadata": {
            "tags": []
          },
          "execution_count": 20
        }
      ]
    },
    {
      "cell_type": "markdown",
      "metadata": {
        "id": "QhcmTPYR5Psx"
      },
      "source": [
        "## Finding a hidden paragraph"
      ]
    },
    {
      "cell_type": "code",
      "metadata": {
        "id": "uWZnrMoQfFwR"
      },
      "source": [
        "url = 'https://scrape.world/'\n",
        "req = requests.get(url)\n",
        "soup = bs(req.content)\n",
        "soup"
      ],
      "execution_count": null,
      "outputs": []
    },
    {
      "cell_type": "code",
      "metadata": {
        "colab": {
          "base_uri": "https://localhost:8080/"
        },
        "id": "xiNg0kEViFTN",
        "outputId": "a232e244-b0c3-40e1-9603-d17b4fa47be9"
      },
      "source": [
        "# this gives us just the first paragraph\n",
        "\n",
        "soup.p"
      ],
      "execution_count": 9,
      "outputs": [
        {
          "output_type": "execute_result",
          "data": {
            "text/plain": [
              "<p>This website is meant to be scraped.</p>"
            ]
          },
          "metadata": {
            "tags": []
          },
          "execution_count": 9
        }
      ]
    },
    {
      "cell_type": "code",
      "metadata": {
        "colab": {
          "base_uri": "https://localhost:8080/"
        },
        "id": "5NGiMgO5ia09",
        "outputId": "235a0288-6a51-44bf-b1a0-512d09e33b48"
      },
      "source": [
        "soup.find_all('p')"
      ],
      "execution_count": 10,
      "outputs": [
        {
          "output_type": "execute_result",
          "data": {
            "text/plain": [
              "[<p>This website is meant to be scraped.</p>,\n",
              " <p>The HTML on this website is garbage...</p>,\n",
              " <p>This is on purpose <sub style=\"font-size:6px\">*wink*</sub></p>,\n",
              " <p hidden=\"\">And definitely not because I suck at HTML *wink*wink*</p>,\n",
              " <p>Each page is a challenge.</p>,\n",
              " <p>To start a challenge click on the accordion:</p>,\n",
              " <p>Try to complete each challenge <i>before</i> peeking at the solution.</p>,\n",
              " <p>Happy scraping!</p>]"
            ]
          },
          "metadata": {
            "tags": []
          },
          "execution_count": 10
        }
      ]
    },
    {
      "cell_type": "markdown",
      "metadata": {
        "id": "DxGlk0Jvjzpz"
      },
      "source": [
        "## Jomec staff"
      ]
    },
    {
      "cell_type": "code",
      "metadata": {
        "id": "PP6M7MGjihlt"
      },
      "source": [
        "url = 'https://www.cardiff.ac.uk/journalism-media-and-culture/people/academic-staff'\n",
        "req = requests.get(url)\n",
        "print(req)\n",
        "soup = bs(req.content)\n",
        "soup"
      ],
      "execution_count": null,
      "outputs": []
    },
    {
      "cell_type": "code",
      "metadata": {
        "id": "ixNGExIvqppa"
      },
      "source": [
        "# find all the names using h2, and no other h2s by specifying the class\n",
        "\n",
        "for x in soup.find_all('h2', class_=\"profile-title fn\"):\n",
        "  print(x.text)\n"
      ],
      "execution_count": null,
      "outputs": []
    },
    {
      "cell_type": "code",
      "metadata": {
        "id": "ix5gF731kC75"
      },
      "source": [
        "staff_list = []\n",
        "\n",
        "for x in soup.find_all('h2', class_=\"profile-title fn\"):\n",
        "\n",
        "  staff_list.append(x.text)\n"
      ],
      "execution_count": null,
      "outputs": []
    },
    {
      "cell_type": "code",
      "metadata": {
        "colab": {
          "base_uri": "https://localhost:8080/"
        },
        "id": "l-1lBQFPpb2x",
        "outputId": "70223173-fca4-4642-8bcc-72ab9c121280"
      },
      "source": [
        "len(staff_list)"
      ],
      "execution_count": null,
      "outputs": [
        {
          "output_type": "execute_result",
          "data": {
            "text/plain": [
              "60"
            ]
          },
          "metadata": {
            "tags": []
          },
          "execution_count": 46
        }
      ]
    },
    {
      "cell_type": "code",
      "metadata": {
        "id": "RQa9i5vPqK8p"
      },
      "source": [
        "# find all the job titles and append to a list\n",
        "\n",
        "jobs_list = []\n",
        "\n",
        "for x in soup.find_all('p', class_ = 'profile-subtitle'):\n",
        "\n",
        "  jobs_list.append(x.text)"
      ],
      "execution_count": null,
      "outputs": []
    },
    {
      "cell_type": "code",
      "metadata": {
        "id": "qgw9dRhhtbwK"
      },
      "source": [
        "# find all the contact details and append to a list\n",
        "\n",
        "contact_list = []\n",
        "\n",
        "for x in soup.find_all('dd'):\n",
        "  contact_list.append(x.text)"
      ],
      "execution_count": null,
      "outputs": []
    },
    {
      "cell_type": "markdown",
      "metadata": {
        "id": "BjCUSHMYweUB"
      },
      "source": [
        "## Or... (being more efficient)"
      ]
    },
    {
      "cell_type": "code",
      "metadata": {
        "id": "_i62lGkDwfdH"
      },
      "source": [
        "full_list = []\n",
        "\n",
        "for x in soup.find_all('div', class_ = 'profile profile-student with-image vcard'):\n",
        "    print(x.text)\n",
        "    full_list.append(x.text)\n"
      ],
      "execution_count": null,
      "outputs": []
    },
    {
      "cell_type": "code",
      "metadata": {
        "colab": {
          "base_uri": "https://localhost:8080/"
        },
        "id": "ZVnTLGIywgtW",
        "outputId": "f2b6f489-c77c-4abb-a316-caad6480bff1"
      },
      "source": [
        "len(full_list)"
      ],
      "execution_count": null,
      "outputs": [
        {
          "output_type": "execute_result",
          "data": {
            "text/plain": [
              "60"
            ]
          },
          "metadata": {
            "tags": []
          },
          "execution_count": 67
        }
      ]
    },
    {
      "cell_type": "code",
      "metadata": {
        "colab": {
          "base_uri": "https://localhost:8080/",
          "height": 36
        },
        "id": "G8Hi3jJSwpSM",
        "outputId": "d5bdf52a-9a6f-43ad-df79-8e1aabb668da"
      },
      "source": [
        "full_list[14]"
      ],
      "execution_count": null,
      "outputs": [
        {
          "output_type": "execute_result",
          "data": {
            "application/vnd.google.colaboratory.intrinsic+json": {
              "type": "string"
            },
            "text/plain": [
              "'\\n\\nProfessor Lina Dencik\\nProfessor\\n\\nEmail\\ndencikl@cardiff.ac.uk\\nTelephone\\n+44 (0)29 2087 5461\\n\\n'"
            ]
          },
          "metadata": {
            "tags": []
          },
          "execution_count": 75
        }
      ]
    },
    {
      "cell_type": "code",
      "metadata": {
        "id": "DstZ0ZUKzqe0"
      },
      "source": [
        "# build a df from the list\n",
        "\n",
        "df = pd.DataFrame(full_list)"
      ],
      "execution_count": null,
      "outputs": []
    },
    {
      "cell_type": "code",
      "metadata": {
        "colab": {
          "base_uri": "https://localhost:8080/",
          "height": 36
        },
        "id": "y_-CkI-fz1KX",
        "outputId": "7768dc25-9b91-44e4-e7e2-e4167d5ef0fd"
      },
      "source": [
        "# look at a single cell\n",
        "\n",
        "df.iat[0,0]"
      ],
      "execution_count": null,
      "outputs": [
        {
          "output_type": "execute_result",
          "data": {
            "application/vnd.google.colaboratory.intrinsic+json": {
              "type": "string"
            },
            "text/plain": [
              "'\\n\\nProfessor Stuart Allan\\nHead of School\\n\\nEmail\\nallans@cardiff.ac.uk\\nTelephone\\n+44(0)29 208 74509\\n\\n'"
            ]
          },
          "metadata": {
            "tags": []
          },
          "execution_count": 79
        }
      ]
    },
    {
      "cell_type": "code",
      "metadata": {
        "id": "dJzHMUutz1lL"
      },
      "source": [
        "# name our single column\n",
        "\n",
        "df.columns = ['data']"
      ],
      "execution_count": null,
      "outputs": []
    },
    {
      "cell_type": "code",
      "metadata": {
        "id": "sZVnhSNJ2JJ_"
      },
      "source": [
        "# split the contents of our column\n",
        "\n",
        "df = df.data.str.split('\\n', expand = True)"
      ],
      "execution_count": null,
      "outputs": []
    },
    {
      "cell_type": "code",
      "metadata": {
        "colab": {
          "base_uri": "https://localhost:8080/",
          "height": 1000
        },
        "id": "2pZBs8XX2O5d",
        "outputId": "bf5ae329-3738-48ac-b1a7-9e4a50534e86"
      },
      "source": [
        "df"
      ],
      "execution_count": null,
      "outputs": [
        {
          "output_type": "execute_result",
          "data": {
            "text/html": [
              "<div>\n",
              "<style scoped>\n",
              "    .dataframe tbody tr th:only-of-type {\n",
              "        vertical-align: middle;\n",
              "    }\n",
              "\n",
              "    .dataframe tbody tr th {\n",
              "        vertical-align: top;\n",
              "    }\n",
              "\n",
              "    .dataframe thead th {\n",
              "        text-align: right;\n",
              "    }\n",
              "</style>\n",
              "<table border=\"1\" class=\"dataframe\">\n",
              "  <thead>\n",
              "    <tr style=\"text-align: right;\">\n",
              "      <th></th>\n",
              "      <th>0</th>\n",
              "      <th>1</th>\n",
              "      <th>2</th>\n",
              "      <th>3</th>\n",
              "      <th>4</th>\n",
              "      <th>5</th>\n",
              "      <th>6</th>\n",
              "      <th>7</th>\n",
              "      <th>8</th>\n",
              "      <th>9</th>\n",
              "      <th>10</th>\n",
              "      <th>11</th>\n",
              "      <th>12</th>\n",
              "    </tr>\n",
              "  </thead>\n",
              "  <tbody>\n",
              "    <tr>\n",
              "      <th>0</th>\n",
              "      <td></td>\n",
              "      <td></td>\n",
              "      <td>Professor Stuart Allan</td>\n",
              "      <td>Head of School</td>\n",
              "      <td></td>\n",
              "      <td>Email</td>\n",
              "      <td>allans@cardiff.ac.uk</td>\n",
              "      <td>Telephone</td>\n",
              "      <td>+44(0)29 208 74509</td>\n",
              "      <td></td>\n",
              "      <td></td>\n",
              "      <td>None</td>\n",
              "      <td>None</td>\n",
              "    </tr>\n",
              "    <tr>\n",
              "      <th>1</th>\n",
              "      <td></td>\n",
              "      <td></td>\n",
              "      <td>Dr Tom Allbeson</td>\n",
              "      <td>Lecturer in Cultural History</td>\n",
              "      <td></td>\n",
              "      <td>Email</td>\n",
              "      <td>allbesont@cardiff.ac.uk</td>\n",
              "      <td></td>\n",
              "      <td></td>\n",
              "      <td>None</td>\n",
              "      <td>None</td>\n",
              "      <td>None</td>\n",
              "      <td>None</td>\n",
              "    </tr>\n",
              "    <tr>\n",
              "      <th>2</th>\n",
              "      <td></td>\n",
              "      <td></td>\n",
              "      <td>Gavin Allen</td>\n",
              "      <td>Digital Journalism Lecturer</td>\n",
              "      <td></td>\n",
              "      <td>Email</td>\n",
              "      <td>alleng3@cardiff.ac.uk</td>\n",
              "      <td>Telephone</td>\n",
              "      <td>+44 29225 11351</td>\n",
              "      <td></td>\n",
              "      <td></td>\n",
              "      <td>None</td>\n",
              "      <td>None</td>\n",
              "    </tr>\n",
              "    <tr>\n",
              "      <th>3</th>\n",
              "      <td></td>\n",
              "      <td></td>\n",
              "      <td>Dr Lucy Bennett</td>\n",
              "      <td>Lecturer in Media Audiences (Teaching and Rese...</td>\n",
              "      <td></td>\n",
              "      <td>Email</td>\n",
              "      <td>bennettl@cardiff.ac.uk</td>\n",
              "      <td>Telephone</td>\n",
              "      <td>+44 (0)29 2251 0789</td>\n",
              "      <td></td>\n",
              "      <td></td>\n",
              "      <td>None</td>\n",
              "      <td>None</td>\n",
              "    </tr>\n",
              "    <tr>\n",
              "      <th>4</th>\n",
              "      <td></td>\n",
              "      <td></td>\n",
              "      <td>Jane Bentley</td>\n",
              "      <td>Course Director MA Magazine Journalism</td>\n",
              "      <td></td>\n",
              "      <td>Email</td>\n",
              "      <td>bentleyje@cardiff.ac.uk</td>\n",
              "      <td>Telephone</td>\n",
              "      <td>+44(0)29 208 74681</td>\n",
              "      <td></td>\n",
              "      <td></td>\n",
              "      <td>None</td>\n",
              "      <td>None</td>\n",
              "    </tr>\n",
              "    <tr>\n",
              "      <th>5</th>\n",
              "      <td></td>\n",
              "      <td></td>\n",
              "      <td>Dr Mike Berry</td>\n",
              "      <td>Senior Lecturer</td>\n",
              "      <td></td>\n",
              "      <td>Email</td>\n",
              "      <td>berrym1@cardiff.ac.uk</td>\n",
              "      <td>Telephone</td>\n",
              "      <td>+44 (0)29 208 70630</td>\n",
              "      <td></td>\n",
              "      <td></td>\n",
              "      <td>None</td>\n",
              "      <td>None</td>\n",
              "    </tr>\n",
              "    <tr>\n",
              "      <th>6</th>\n",
              "      <td></td>\n",
              "      <td></td>\n",
              "      <td>Professor Duncan Bloy</td>\n",
              "      <td>Senior Lecturer</td>\n",
              "      <td></td>\n",
              "      <td>Email</td>\n",
              "      <td>bloyd@cardiff.ac.uk</td>\n",
              "      <td>Telephone</td>\n",
              "      <td>+44 (0)29 2087 4186</td>\n",
              "      <td></td>\n",
              "      <td></td>\n",
              "      <td>None</td>\n",
              "      <td>None</td>\n",
              "    </tr>\n",
              "    <tr>\n",
              "      <th>7</th>\n",
              "      <td></td>\n",
              "      <td></td>\n",
              "      <td>Professor Paul Bowman</td>\n",
              "      <td>Professor of Cultural Studies</td>\n",
              "      <td></td>\n",
              "      <td>Email</td>\n",
              "      <td>bowmanp@cardiff.ac.uk</td>\n",
              "      <td>Telephone</td>\n",
              "      <td>+44 (0)29 208 76797</td>\n",
              "      <td></td>\n",
              "      <td></td>\n",
              "      <td>None</td>\n",
              "      <td>None</td>\n",
              "    </tr>\n",
              "    <tr>\n",
              "      <th>8</th>\n",
              "      <td></td>\n",
              "      <td></td>\n",
              "      <td>Dr Julie Brown</td>\n",
              "      <td>Senior Lecturer Cultural and Creative Industries</td>\n",
              "      <td></td>\n",
              "      <td>Email</td>\n",
              "      <td>brownj36@cardiff.ac.uk</td>\n",
              "      <td>Telephone</td>\n",
              "      <td>+44 (0)29 2087 4756</td>\n",
              "      <td></td>\n",
              "      <td></td>\n",
              "      <td>None</td>\n",
              "      <td>None</td>\n",
              "    </tr>\n",
              "    <tr>\n",
              "      <th>9</th>\n",
              "      <td></td>\n",
              "      <td></td>\n",
              "      <td>Dr Damian Carney</td>\n",
              "      <td>Senior Lecturer Media Law (Teaching and Research)</td>\n",
              "      <td></td>\n",
              "      <td>Email</td>\n",
              "      <td>carneyd@cardiff.ac.uk</td>\n",
              "      <td>Telephone</td>\n",
              "      <td>+44(0)29 208 74186</td>\n",
              "      <td></td>\n",
              "      <td></td>\n",
              "      <td>None</td>\n",
              "      <td>None</td>\n",
              "    </tr>\n",
              "    <tr>\n",
              "      <th>10</th>\n",
              "      <td></td>\n",
              "      <td></td>\n",
              "      <td>Dr Cynthia Carter</td>\n",
              "      <td>Reader</td>\n",
              "      <td></td>\n",
              "      <td>Email</td>\n",
              "      <td>cartercl@cardiff.ac.uk</td>\n",
              "      <td>Telephone</td>\n",
              "      <td>+44 (0)29 2087 6172</td>\n",
              "      <td></td>\n",
              "      <td></td>\n",
              "      <td>None</td>\n",
              "      <td>None</td>\n",
              "    </tr>\n",
              "    <tr>\n",
              "      <th>11</th>\n",
              "      <td></td>\n",
              "      <td></td>\n",
              "      <td>Sali Collins</td>\n",
              "      <td>Lecturer</td>\n",
              "      <td></td>\n",
              "      <td></td>\n",
              "      <td>Welsh speaking</td>\n",
              "      <td>Email</td>\n",
              "      <td>collinss5@cardiff.ac.uk</td>\n",
              "      <td>Telephone</td>\n",
              "      <td>+44 (0)29 20870888</td>\n",
              "      <td></td>\n",
              "      <td></td>\n",
              "    </tr>\n",
              "    <tr>\n",
              "      <th>12</th>\n",
              "      <td></td>\n",
              "      <td></td>\n",
              "      <td>Professor Simon Cottle</td>\n",
              "      <td>Professor of Media and Communication / Directo...</td>\n",
              "      <td></td>\n",
              "      <td>Email</td>\n",
              "      <td>cottles@cardiff.ac.uk</td>\n",
              "      <td>Telephone</td>\n",
              "      <td>+44 (0)29 208 74506</td>\n",
              "      <td></td>\n",
              "      <td></td>\n",
              "      <td>None</td>\n",
              "      <td>None</td>\n",
              "    </tr>\n",
              "    <tr>\n",
              "      <th>13</th>\n",
              "      <td></td>\n",
              "      <td></td>\n",
              "      <td>Professor Stephen Cushion</td>\n",
              "      <td>Director of Postgraduate Research</td>\n",
              "      <td></td>\n",
              "      <td>Email</td>\n",
              "      <td>cushionsa@cardiff.ac.uk</td>\n",
              "      <td>Telephone</td>\n",
              "      <td>+44 (0)29 208 74570</td>\n",
              "      <td></td>\n",
              "      <td></td>\n",
              "      <td>None</td>\n",
              "      <td>None</td>\n",
              "    </tr>\n",
              "    <tr>\n",
              "      <th>14</th>\n",
              "      <td></td>\n",
              "      <td></td>\n",
              "      <td>Professor Lina Dencik</td>\n",
              "      <td>Professor</td>\n",
              "      <td></td>\n",
              "      <td>Email</td>\n",
              "      <td>dencikl@cardiff.ac.uk</td>\n",
              "      <td>Telephone</td>\n",
              "      <td>+44 (0)29 2087 5461</td>\n",
              "      <td></td>\n",
              "      <td></td>\n",
              "      <td>None</td>\n",
              "      <td>None</td>\n",
              "    </tr>\n",
              "    <tr>\n",
              "      <th>15</th>\n",
              "      <td></td>\n",
              "      <td></td>\n",
              "      <td>Cathy Duncan</td>\n",
              "      <td>Lecturer (Teaching and Scholarship)</td>\n",
              "      <td></td>\n",
              "      <td>Email</td>\n",
              "      <td>duncanc2@cardiff.ac.uk</td>\n",
              "      <td>Telephone</td>\n",
              "      <td>+44 (0)29 208 70646</td>\n",
              "      <td></td>\n",
              "      <td></td>\n",
              "      <td>None</td>\n",
              "      <td>None</td>\n",
              "    </tr>\n",
              "    <tr>\n",
              "      <th>16</th>\n",
              "      <td></td>\n",
              "      <td></td>\n",
              "      <td>Naomi Dunstan</td>\n",
              "      <td>Lecturer (Teaching and Scholarship)</td>\n",
              "      <td></td>\n",
              "      <td>Email</td>\n",
              "      <td>dunstann@cardiff.ac.uk</td>\n",
              "      <td>Telephone</td>\n",
              "      <td>+44 (0)29 20876098</td>\n",
              "      <td></td>\n",
              "      <td></td>\n",
              "      <td>None</td>\n",
              "      <td>None</td>\n",
              "    </tr>\n",
              "    <tr>\n",
              "      <th>17</th>\n",
              "      <td></td>\n",
              "      <td></td>\n",
              "      <td>Dr Inaki Garcia-Blanco</td>\n",
              "      <td>Senior Lecturer (Teaching and Research)</td>\n",
              "      <td></td>\n",
              "      <td>Email</td>\n",
              "      <td>garcia-blancoi@cardiff.ac.uk</td>\n",
              "      <td>Telephone</td>\n",
              "      <td>+44(0)29 208 76077</td>\n",
              "      <td></td>\n",
              "      <td></td>\n",
              "      <td>None</td>\n",
              "      <td>None</td>\n",
              "    </tr>\n",
              "    <tr>\n",
              "      <th>18</th>\n",
              "      <td></td>\n",
              "      <td></td>\n",
              "      <td>Dr Ross Garner</td>\n",
              "      <td>Lecturer</td>\n",
              "      <td></td>\n",
              "      <td>Email</td>\n",
              "      <td>garnerrp1@cardiff.ac.uk</td>\n",
              "      <td>Telephone</td>\n",
              "      <td>+44 (0)29 2087 5475</td>\n",
              "      <td></td>\n",
              "      <td></td>\n",
              "      <td>None</td>\n",
              "      <td>None</td>\n",
              "    </tr>\n",
              "    <tr>\n",
              "      <th>19</th>\n",
              "      <td></td>\n",
              "      <td></td>\n",
              "      <td>Dr Hugh Griffiths</td>\n",
              "      <td>Teacher</td>\n",
              "      <td></td>\n",
              "      <td>Email</td>\n",
              "      <td>griffithshn@cardiff.ac.uk</td>\n",
              "      <td></td>\n",
              "      <td></td>\n",
              "      <td>None</td>\n",
              "      <td>None</td>\n",
              "      <td>None</td>\n",
              "      <td>None</td>\n",
              "    </tr>\n",
              "    <tr>\n",
              "      <th>20</th>\n",
              "      <td></td>\n",
              "      <td></td>\n",
              "      <td>Mark Griffiths</td>\n",
              "      <td>Technical Demonstrator</td>\n",
              "      <td></td>\n",
              "      <td>Email</td>\n",
              "      <td>griffithsj36@cardiff.ac.uk</td>\n",
              "      <td></td>\n",
              "      <td></td>\n",
              "      <td>None</td>\n",
              "      <td>None</td>\n",
              "      <td>None</td>\n",
              "      <td>None</td>\n",
              "    </tr>\n",
              "    <tr>\n",
              "      <th>21</th>\n",
              "      <td></td>\n",
              "      <td></td>\n",
              "      <td>Dr David Dunkley Gyimah</td>\n",
              "      <td>Senior Lecturer</td>\n",
              "      <td></td>\n",
              "      <td>Email</td>\n",
              "      <td>gyimahd@cardiff.ac.uk</td>\n",
              "      <td>Telephone</td>\n",
              "      <td>+44 (0)29 2087 0100</td>\n",
              "      <td></td>\n",
              "      <td></td>\n",
              "      <td>None</td>\n",
              "      <td>None</td>\n",
              "    </tr>\n",
              "    <tr>\n",
              "      <th>22</th>\n",
              "      <td></td>\n",
              "      <td></td>\n",
              "      <td>Dr Hannah Hamad</td>\n",
              "      <td>Senior Lecturer Media and Communication</td>\n",
              "      <td></td>\n",
              "      <td>Email</td>\n",
              "      <td>hamadh2@cardiff.ac.uk</td>\n",
              "      <td></td>\n",
              "      <td></td>\n",
              "      <td>None</td>\n",
              "      <td>None</td>\n",
              "      <td>None</td>\n",
              "      <td>None</td>\n",
              "    </tr>\n",
              "    <tr>\n",
              "      <th>23</th>\n",
              "      <td></td>\n",
              "      <td></td>\n",
              "      <td>Professor Ian Hargreaves</td>\n",
              "      <td>Professor of Digital Economy</td>\n",
              "      <td></td>\n",
              "      <td>Email</td>\n",
              "      <td>hargreavesi@cardiff.ac.uk</td>\n",
              "      <td>Telephone</td>\n",
              "      <td>+44 (0)29 208 74633</td>\n",
              "      <td></td>\n",
              "      <td></td>\n",
              "      <td>None</td>\n",
              "      <td>None</td>\n",
              "    </tr>\n",
              "    <tr>\n",
              "      <th>24</th>\n",
              "      <td></td>\n",
              "      <td></td>\n",
              "      <td>Dr Janet Harris</td>\n",
              "      <td>Senior Lecturer</td>\n",
              "      <td></td>\n",
              "      <td>Email</td>\n",
              "      <td>harrisj14@cardiff.ac.uk</td>\n",
              "      <td>Telephone</td>\n",
              "      <td>+44(0)29 208 76279</td>\n",
              "      <td></td>\n",
              "      <td></td>\n",
              "      <td>None</td>\n",
              "      <td>None</td>\n",
              "    </tr>\n",
              "    <tr>\n",
              "      <th>25</th>\n",
              "      <td></td>\n",
              "      <td></td>\n",
              "      <td>Michael Hill</td>\n",
              "      <td>Lecturer</td>\n",
              "      <td></td>\n",
              "      <td>Email</td>\n",
              "      <td>hillm10@cardiff.ac.uk</td>\n",
              "      <td>Telephone</td>\n",
              "      <td>+44 (0)29 2087 6185</td>\n",
              "      <td></td>\n",
              "      <td></td>\n",
              "      <td>None</td>\n",
              "      <td>None</td>\n",
              "    </tr>\n",
              "    <tr>\n",
              "      <th>26</th>\n",
              "      <td></td>\n",
              "      <td></td>\n",
              "      <td>Dr Arne Hintz</td>\n",
              "      <td>Reader</td>\n",
              "      <td></td>\n",
              "      <td>Email</td>\n",
              "      <td>hintza@cardiff.ac.uk</td>\n",
              "      <td>Telephone</td>\n",
              "      <td>+44 (0)29 208 76281</td>\n",
              "      <td></td>\n",
              "      <td></td>\n",
              "      <td>None</td>\n",
              "      <td>None</td>\n",
              "    </tr>\n",
              "    <tr>\n",
              "      <th>27</th>\n",
              "      <td></td>\n",
              "      <td></td>\n",
              "      <td>Timothy Holmes</td>\n",
              "      <td>Reader</td>\n",
              "      <td></td>\n",
              "      <td>Email</td>\n",
              "      <td>holmesta@cardiff.ac.uk</td>\n",
              "      <td>Telephone</td>\n",
              "      <td>+44 (0)29 208 74572</td>\n",
              "      <td></td>\n",
              "      <td></td>\n",
              "      <td>None</td>\n",
              "      <td>None</td>\n",
              "    </tr>\n",
              "    <tr>\n",
              "      <th>28</th>\n",
              "      <td></td>\n",
              "      <td></td>\n",
              "      <td>Dr Savyasaachi Jain</td>\n",
              "      <td>Senior Lecturer Journalism and Documentary</td>\n",
              "      <td></td>\n",
              "      <td>Email</td>\n",
              "      <td>jains23@cardiff.ac.uk</td>\n",
              "      <td>Telephone</td>\n",
              "      <td>+44 (0)29 2251 0782</td>\n",
              "      <td></td>\n",
              "      <td></td>\n",
              "      <td>None</td>\n",
              "      <td>None</td>\n",
              "    </tr>\n",
              "    <tr>\n",
              "      <th>29</th>\n",
              "      <td></td>\n",
              "      <td></td>\n",
              "      <td>Dr John Jewell</td>\n",
              "      <td>Director of Undergraduate Studies</td>\n",
              "      <td></td>\n",
              "      <td>Email</td>\n",
              "      <td>jewellj@cardiff.ac.uk</td>\n",
              "      <td>Telephone</td>\n",
              "      <td>+44 (0)29 2087 5331</td>\n",
              "      <td></td>\n",
              "      <td></td>\n",
              "      <td>None</td>\n",
              "      <td>None</td>\n",
              "    </tr>\n",
              "    <tr>\n",
              "      <th>30</th>\n",
              "      <td></td>\n",
              "      <td></td>\n",
              "      <td>Dr César Jiménez-Martínez</td>\n",
              "      <td>Lecturer Global Media and Communications</td>\n",
              "      <td></td>\n",
              "      <td>Email</td>\n",
              "      <td>jimenezmartinezc@cardiff.ac.uk</td>\n",
              "      <td>Telephone</td>\n",
              "      <td>+44 29225 10214</td>\n",
              "      <td></td>\n",
              "      <td></td>\n",
              "      <td>None</td>\n",
              "      <td>None</td>\n",
              "    </tr>\n",
              "    <tr>\n",
              "      <th>31</th>\n",
              "      <td></td>\n",
              "      <td></td>\n",
              "      <td>Dr Jenny Kidd</td>\n",
              "      <td>Reader and Director of Postgraduate Research</td>\n",
              "      <td></td>\n",
              "      <td>Email</td>\n",
              "      <td>kiddjc2@cardiff.ac.uk</td>\n",
              "      <td>Telephone</td>\n",
              "      <td>+44 (0)29 208 74489</td>\n",
              "      <td></td>\n",
              "      <td></td>\n",
              "      <td>None</td>\n",
              "      <td>None</td>\n",
              "    </tr>\n",
              "    <tr>\n",
              "      <th>32</th>\n",
              "      <td></td>\n",
              "      <td></td>\n",
              "      <td>Dr Susan Kinnear</td>\n",
              "      <td>Director of International Public Relations and...</td>\n",
              "      <td></td>\n",
              "      <td>Email</td>\n",
              "      <td>kinnears@cardiff.ac.uk</td>\n",
              "      <td></td>\n",
              "      <td></td>\n",
              "      <td>None</td>\n",
              "      <td>None</td>\n",
              "      <td>None</td>\n",
              "      <td>None</td>\n",
              "    </tr>\n",
              "    <tr>\n",
              "      <th>33</th>\n",
              "      <td></td>\n",
              "      <td></td>\n",
              "      <td>Professor Jenny Kitzinger</td>\n",
              "      <td>Director of Research: Impact and Engagement an...</td>\n",
              "      <td></td>\n",
              "      <td>Email</td>\n",
              "      <td>kitzingerj@cardiff.ac.uk</td>\n",
              "      <td>Telephone</td>\n",
              "      <td>+44 (0)29 208 74571</td>\n",
              "      <td></td>\n",
              "      <td></td>\n",
              "      <td>None</td>\n",
              "      <td>None</td>\n",
              "    </tr>\n",
              "    <tr>\n",
              "      <th>34</th>\n",
              "      <td></td>\n",
              "      <td></td>\n",
              "      <td>Dr Maria Kyriakidou</td>\n",
              "      <td>Senior Lecturer</td>\n",
              "      <td></td>\n",
              "      <td>Email</td>\n",
              "      <td>kyriakidoum@cardiff.ac.uk</td>\n",
              "      <td></td>\n",
              "      <td></td>\n",
              "      <td>None</td>\n",
              "      <td>None</td>\n",
              "      <td>None</td>\n",
              "      <td>None</td>\n",
              "    </tr>\n",
              "    <tr>\n",
              "      <th>35</th>\n",
              "      <td></td>\n",
              "      <td></td>\n",
              "      <td>Professor Justin Lewis</td>\n",
              "      <td>Professor of Communication</td>\n",
              "      <td></td>\n",
              "      <td>Email</td>\n",
              "      <td>lewisj2@cardiff.ac.uk</td>\n",
              "      <td>Telephone</td>\n",
              "      <td>+44 (0)29 208 76341</td>\n",
              "      <td></td>\n",
              "      <td></td>\n",
              "      <td>None</td>\n",
              "      <td>None</td>\n",
              "    </tr>\n",
              "    <tr>\n",
              "      <th>36</th>\n",
              "      <td></td>\n",
              "      <td></td>\n",
              "      <td>Dr Michael Kho Lim</td>\n",
              "      <td>Lecturer</td>\n",
              "      <td></td>\n",
              "      <td>Email</td>\n",
              "      <td>limm2@cardiff.ac.uk</td>\n",
              "      <td>Telephone</td>\n",
              "      <td>+44 (0)29 2087 0993</td>\n",
              "      <td></td>\n",
              "      <td></td>\n",
              "      <td>None</td>\n",
              "      <td>None</td>\n",
              "    </tr>\n",
              "    <tr>\n",
              "      <th>37</th>\n",
              "      <td></td>\n",
              "      <td></td>\n",
              "      <td>Sian Morgan Lloyd</td>\n",
              "      <td>Lecturer</td>\n",
              "      <td></td>\n",
              "      <td></td>\n",
              "      <td>Welsh speaking</td>\n",
              "      <td>Email</td>\n",
              "      <td>lloydsm5@cardiff.ac.uk</td>\n",
              "      <td>Telephone</td>\n",
              "      <td>+44 (0)29 2087 6843</td>\n",
              "      <td></td>\n",
              "      <td></td>\n",
              "    </tr>\n",
              "    <tr>\n",
              "      <th>38</th>\n",
              "      <td></td>\n",
              "      <td></td>\n",
              "      <td>Sandra Loy</td>\n",
              "      <td>Teacher</td>\n",
              "      <td></td>\n",
              "      <td>Email</td>\n",
              "      <td>loys1@cardiff.ac.uk</td>\n",
              "      <td>Telephone</td>\n",
              "      <td>+44 29208 76183</td>\n",
              "      <td></td>\n",
              "      <td></td>\n",
              "      <td>None</td>\n",
              "      <td>None</td>\n",
              "    </tr>\n",
              "    <tr>\n",
              "      <th>39</th>\n",
              "      <td></td>\n",
              "      <td></td>\n",
              "      <td>Sharon Magill</td>\n",
              "      <td>Technical Demonstrator</td>\n",
              "      <td></td>\n",
              "      <td>Email</td>\n",
              "      <td>magillse@cardiff.ac.uk</td>\n",
              "      <td>Telephone</td>\n",
              "      <td>+44 (0)29 208 70678</td>\n",
              "      <td></td>\n",
              "      <td></td>\n",
              "      <td>None</td>\n",
              "      <td>None</td>\n",
              "    </tr>\n",
              "    <tr>\n",
              "      <th>40</th>\n",
              "      <td></td>\n",
              "      <td></td>\n",
              "      <td>Emma Meese</td>\n",
              "      <td>Director of Community Journalism</td>\n",
              "      <td></td>\n",
              "      <td></td>\n",
              "      <td>Welsh speaking</td>\n",
              "      <td>Email</td>\n",
              "      <td>meesee@cardiff.ac.uk</td>\n",
              "      <td>Telephone</td>\n",
              "      <td>+44 (0)29 208 70101</td>\n",
              "      <td></td>\n",
              "      <td></td>\n",
              "    </tr>\n",
              "    <tr>\n",
              "      <th>41</th>\n",
              "      <td></td>\n",
              "      <td></td>\n",
              "      <td>Dr Galina Miazhevich</td>\n",
              "      <td>Senior Lecturer</td>\n",
              "      <td></td>\n",
              "      <td>Email</td>\n",
              "      <td>miazhevichg@cardiff.ac.uk</td>\n",
              "      <td>Telephone</td>\n",
              "      <td>+44 (0)29 2087 0644</td>\n",
              "      <td></td>\n",
              "      <td></td>\n",
              "      <td>None</td>\n",
              "      <td>None</td>\n",
              "    </tr>\n",
              "    <tr>\n",
              "      <th>42</th>\n",
              "      <td></td>\n",
              "      <td></td>\n",
              "      <td>Dr Linda Mitchell</td>\n",
              "      <td>Teacher/Tutor</td>\n",
              "      <td></td>\n",
              "      <td>Email</td>\n",
              "      <td>mitchelll4@cardiff.ac.uk</td>\n",
              "      <td></td>\n",
              "      <td></td>\n",
              "      <td>None</td>\n",
              "      <td>None</td>\n",
              "      <td>None</td>\n",
              "      <td>None</td>\n",
              "    </tr>\n",
              "    <tr>\n",
              "      <th>43</th>\n",
              "      <td></td>\n",
              "      <td></td>\n",
              "      <td>Dr Kerry Moore</td>\n",
              "      <td>Senior Lecturer</td>\n",
              "      <td></td>\n",
              "      <td>Email</td>\n",
              "      <td>moorek4@cardiff.ac.uk</td>\n",
              "      <td>Telephone</td>\n",
              "      <td>+44 (0)29 208 76199</td>\n",
              "      <td></td>\n",
              "      <td></td>\n",
              "      <td>None</td>\n",
              "      <td>None</td>\n",
              "    </tr>\n",
              "    <tr>\n",
              "      <th>44</th>\n",
              "      <td></td>\n",
              "      <td></td>\n",
              "      <td>Nick Mosdell</td>\n",
              "      <td>Deputy Director MA International Public Relati...</td>\n",
              "      <td></td>\n",
              "      <td>Email</td>\n",
              "      <td>mosdelln1@cardiff.ac.uk</td>\n",
              "      <td>Telephone</td>\n",
              "      <td>+44 (0)29 208 70102</td>\n",
              "      <td></td>\n",
              "      <td></td>\n",
              "      <td>None</td>\n",
              "      <td>None</td>\n",
              "    </tr>\n",
              "    <tr>\n",
              "      <th>45</th>\n",
              "      <td></td>\n",
              "      <td></td>\n",
              "      <td>Dr Caitriona Noonan</td>\n",
              "      <td>Senior Lecturer</td>\n",
              "      <td></td>\n",
              "      <td>Email</td>\n",
              "      <td>noonanc@cardiff.ac.uk</td>\n",
              "      <td>Telephone</td>\n",
              "      <td>+44 (0)29 20874187</td>\n",
              "      <td></td>\n",
              "      <td></td>\n",
              "      <td>None</td>\n",
              "      <td>None</td>\n",
              "    </tr>\n",
              "    <tr>\n",
              "      <th>46</th>\n",
              "      <td></td>\n",
              "      <td></td>\n",
              "      <td>Dr Aidan O'Donnell</td>\n",
              "      <td>Lecturer Data Journalism (Teaching and Scholar...</td>\n",
              "      <td></td>\n",
              "      <td>Email</td>\n",
              "      <td>odonnella4@cardiff.ac.uk</td>\n",
              "      <td>Telephone</td>\n",
              "      <td>+44 (0)29 208 76048</td>\n",
              "      <td></td>\n",
              "      <td></td>\n",
              "      <td>None</td>\n",
              "      <td>None</td>\n",
              "    </tr>\n",
              "    <tr>\n",
              "      <th>47</th>\n",
              "      <td></td>\n",
              "      <td></td>\n",
              "      <td>Tony O'Shaughnessy</td>\n",
              "      <td>Course Director MA Broadcast Journalism</td>\n",
              "      <td></td>\n",
              "      <td>Email</td>\n",
              "      <td>oshaughnessya@cardiff.ac.uk</td>\n",
              "      <td>Telephone</td>\n",
              "      <td>+44 (0)29 208 74172</td>\n",
              "      <td></td>\n",
              "      <td></td>\n",
              "      <td>None</td>\n",
              "      <td>None</td>\n",
              "    </tr>\n",
              "    <tr>\n",
              "      <th>48</th>\n",
              "      <td></td>\n",
              "      <td></td>\n",
              "      <td>Dr Elliot Pill</td>\n",
              "      <td>Reader</td>\n",
              "      <td></td>\n",
              "      <td>Email</td>\n",
              "      <td>pille@cardiff.ac.uk</td>\n",
              "      <td>Telephone</td>\n",
              "      <td>+44 (0)29 208 70138</td>\n",
              "      <td></td>\n",
              "      <td></td>\n",
              "      <td>None</td>\n",
              "      <td>None</td>\n",
              "    </tr>\n",
              "    <tr>\n",
              "      <th>49</th>\n",
              "      <td></td>\n",
              "      <td></td>\n",
              "      <td>Professor Richard Sambrook</td>\n",
              "      <td>Deputy Head of School and Director - Centre fo...</td>\n",
              "      <td></td>\n",
              "      <td>Email</td>\n",
              "      <td>sambrookrj@cardiff.ac.uk</td>\n",
              "      <td>Telephone</td>\n",
              "      <td>+44 (0)29 208 70982</td>\n",
              "      <td></td>\n",
              "      <td></td>\n",
              "      <td>None</td>\n",
              "      <td>None</td>\n",
              "    </tr>\n",
              "    <tr>\n",
              "      <th>50</th>\n",
              "      <td></td>\n",
              "      <td></td>\n",
              "      <td>Dr Francesca Sobande</td>\n",
              "      <td>Lecturer</td>\n",
              "      <td></td>\n",
              "      <td>Email</td>\n",
              "      <td>sobandef@cardiff.ac.uk</td>\n",
              "      <td>Telephone</td>\n",
              "      <td>+44 29225 11352</td>\n",
              "      <td></td>\n",
              "      <td></td>\n",
              "      <td>None</td>\n",
              "      <td>None</td>\n",
              "    </tr>\n",
              "    <tr>\n",
              "      <th>51</th>\n",
              "      <td></td>\n",
              "      <td></td>\n",
              "      <td>Matt Swaine</td>\n",
              "      <td>Senior Lecturer and Course Director, MA Intern...</td>\n",
              "      <td></td>\n",
              "      <td>Email</td>\n",
              "      <td>swainem@cardiff.ac.uk</td>\n",
              "      <td>Telephone</td>\n",
              "      <td>+44 (0)29 2087 9308</td>\n",
              "      <td></td>\n",
              "      <td></td>\n",
              "      <td>None</td>\n",
              "      <td>None</td>\n",
              "    </tr>\n",
              "    <tr>\n",
              "      <th>52</th>\n",
              "      <td></td>\n",
              "      <td></td>\n",
              "      <td>Professor Richard Tait</td>\n",
              "      <td>Professor of Journalism</td>\n",
              "      <td></td>\n",
              "      <td>Email</td>\n",
              "      <td>taitr@cardiff.ac.uk</td>\n",
              "      <td>Telephone</td>\n",
              "      <td>+44 (0)29 2251 1345</td>\n",
              "      <td></td>\n",
              "      <td></td>\n",
              "      <td>None</td>\n",
              "      <td>None</td>\n",
              "    </tr>\n",
              "    <tr>\n",
              "      <th>53</th>\n",
              "      <td></td>\n",
              "      <td></td>\n",
              "      <td>James Taylor</td>\n",
              "      <td>Technical Demonstrator</td>\n",
              "      <td></td>\n",
              "      <td>Email</td>\n",
              "      <td>taylorj39@cardiff.ac.uk</td>\n",
              "      <td>Telephone</td>\n",
              "      <td>+44 (0)29 2251 0160</td>\n",
              "      <td></td>\n",
              "      <td></td>\n",
              "      <td>None</td>\n",
              "      <td>None</td>\n",
              "    </tr>\n",
              "    <tr>\n",
              "      <th>54</th>\n",
              "      <td></td>\n",
              "      <td></td>\n",
              "      <td>Dr Emiliano Treré</td>\n",
              "      <td>Senior Lecturer in Media Ecologies and Social ...</td>\n",
              "      <td></td>\n",
              "      <td>Email</td>\n",
              "      <td>treree@cardiff.ac.uk</td>\n",
              "      <td>Telephone</td>\n",
              "      <td>+44 (0)29 2251 0736</td>\n",
              "      <td></td>\n",
              "      <td></td>\n",
              "      <td>None</td>\n",
              "      <td>None</td>\n",
              "    </tr>\n",
              "    <tr>\n",
              "      <th>55</th>\n",
              "      <td></td>\n",
              "      <td></td>\n",
              "      <td>Professor Karin Wahl-Jorgensen</td>\n",
              "      <td>Director of Research Development and Environment</td>\n",
              "      <td></td>\n",
              "      <td>Email</td>\n",
              "      <td>wahl-jorgensenk@cardiff.ac.uk</td>\n",
              "      <td>Telephone</td>\n",
              "      <td>+44 (0)29 208 79414</td>\n",
              "      <td></td>\n",
              "      <td></td>\n",
              "      <td>None</td>\n",
              "      <td>None</td>\n",
              "    </tr>\n",
              "    <tr>\n",
              "      <th>56</th>\n",
              "      <td></td>\n",
              "      <td></td>\n",
              "      <td>Dr Catherine Walsh</td>\n",
              "      <td>Lecturer</td>\n",
              "      <td></td>\n",
              "      <td>Email</td>\n",
              "      <td>walshc9@cardiff.ac.uk</td>\n",
              "      <td>Telephone</td>\n",
              "      <td>+44 (0)29 2252 0733</td>\n",
              "      <td></td>\n",
              "      <td></td>\n",
              "      <td>None</td>\n",
              "      <td>None</td>\n",
              "    </tr>\n",
              "    <tr>\n",
              "      <th>57</th>\n",
              "      <td></td>\n",
              "      <td></td>\n",
              "      <td>Matt Walsh</td>\n",
              "      <td>Senior Lecturer</td>\n",
              "      <td></td>\n",
              "      <td>Email</td>\n",
              "      <td>walshm8@cardiff.ac.uk</td>\n",
              "      <td>Telephone</td>\n",
              "      <td>+44 29208 79916</td>\n",
              "      <td></td>\n",
              "      <td></td>\n",
              "      <td>None</td>\n",
              "      <td>None</td>\n",
              "    </tr>\n",
              "    <tr>\n",
              "      <th>58</th>\n",
              "      <td></td>\n",
              "      <td></td>\n",
              "      <td>Dr Andy Williams</td>\n",
              "      <td>Senior Lecturer</td>\n",
              "      <td></td>\n",
              "      <td>Email</td>\n",
              "      <td>williamsa28@cardiff.ac.uk</td>\n",
              "      <td>Telephone</td>\n",
              "      <td>+44(0)29 208 70088</td>\n",
              "      <td></td>\n",
              "      <td></td>\n",
              "      <td>None</td>\n",
              "      <td>None</td>\n",
              "    </tr>\n",
              "    <tr>\n",
              "      <th>59</th>\n",
              "      <td></td>\n",
              "      <td></td>\n",
              "      <td>Simon Williams</td>\n",
              "      <td>Lecturer</td>\n",
              "      <td></td>\n",
              "      <td>Email</td>\n",
              "      <td>williamssj6@cardiff.ac.uk</td>\n",
              "      <td>Telephone</td>\n",
              "      <td>+44 (0)29 2068 8834</td>\n",
              "      <td></td>\n",
              "      <td></td>\n",
              "      <td>None</td>\n",
              "      <td>None</td>\n",
              "    </tr>\n",
              "  </tbody>\n",
              "</table>\n",
              "</div>"
            ],
            "text/plain": [
              "   0  1                               2   ...                   10    11    12\n",
              "0                 Professor Stuart Allan  ...                       None  None\n",
              "1                        Dr Tom Allbeson  ...                 None  None  None\n",
              "2                            Gavin Allen  ...                       None  None\n",
              "3                        Dr Lucy Bennett  ...                       None  None\n",
              "4                           Jane Bentley  ...                       None  None\n",
              "5                          Dr Mike Berry  ...                       None  None\n",
              "6                  Professor Duncan Bloy  ...                       None  None\n",
              "7                  Professor Paul Bowman  ...                       None  None\n",
              "8                         Dr Julie Brown  ...                       None  None\n",
              "9                       Dr Damian Carney  ...                       None  None\n",
              "10                     Dr Cynthia Carter  ...                       None  None\n",
              "11                          Sali Collins  ...   +44 (0)29 20870888            \n",
              "12                Professor Simon Cottle  ...                       None  None\n",
              "13             Professor Stephen Cushion  ...                       None  None\n",
              "14                 Professor Lina Dencik  ...                       None  None\n",
              "15                          Cathy Duncan  ...                       None  None\n",
              "16                         Naomi Dunstan  ...                       None  None\n",
              "17                Dr Inaki Garcia-Blanco  ...                       None  None\n",
              "18                        Dr Ross Garner  ...                       None  None\n",
              "19                     Dr Hugh Griffiths  ...                 None  None  None\n",
              "20                        Mark Griffiths  ...                 None  None  None\n",
              "21               Dr David Dunkley Gyimah  ...                       None  None\n",
              "22                       Dr Hannah Hamad  ...                 None  None  None\n",
              "23              Professor Ian Hargreaves  ...                       None  None\n",
              "24                       Dr Janet Harris  ...                       None  None\n",
              "25                          Michael Hill  ...                       None  None\n",
              "26                         Dr Arne Hintz  ...                       None  None\n",
              "27                        Timothy Holmes  ...                       None  None\n",
              "28                   Dr Savyasaachi Jain  ...                       None  None\n",
              "29                        Dr John Jewell  ...                       None  None\n",
              "30             Dr César Jiménez-Martínez  ...                       None  None\n",
              "31                         Dr Jenny Kidd  ...                       None  None\n",
              "32                      Dr Susan Kinnear  ...                 None  None  None\n",
              "33             Professor Jenny Kitzinger  ...                       None  None\n",
              "34                   Dr Maria Kyriakidou  ...                 None  None  None\n",
              "35                Professor Justin Lewis  ...                       None  None\n",
              "36                    Dr Michael Kho Lim  ...                       None  None\n",
              "37                     Sian Morgan Lloyd  ...  +44 (0)29 2087 6843            \n",
              "38                            Sandra Loy  ...                       None  None\n",
              "39                         Sharon Magill  ...                       None  None\n",
              "40                            Emma Meese  ...  +44 (0)29 208 70101            \n",
              "41                  Dr Galina Miazhevich  ...                       None  None\n",
              "42                     Dr Linda Mitchell  ...                 None  None  None\n",
              "43                        Dr Kerry Moore  ...                       None  None\n",
              "44                          Nick Mosdell  ...                       None  None\n",
              "45                   Dr Caitriona Noonan  ...                       None  None\n",
              "46                    Dr Aidan O'Donnell  ...                       None  None\n",
              "47                    Tony O'Shaughnessy  ...                       None  None\n",
              "48                        Dr Elliot Pill  ...                       None  None\n",
              "49            Professor Richard Sambrook  ...                       None  None\n",
              "50                  Dr Francesca Sobande  ...                       None  None\n",
              "51                           Matt Swaine  ...                       None  None\n",
              "52                Professor Richard Tait  ...                       None  None\n",
              "53                          James Taylor  ...                       None  None\n",
              "54                     Dr Emiliano Treré  ...                       None  None\n",
              "55        Professor Karin Wahl-Jorgensen  ...                       None  None\n",
              "56                    Dr Catherine Walsh  ...                       None  None\n",
              "57                            Matt Walsh  ...                       None  None\n",
              "58                      Dr Andy Williams  ...                       None  None\n",
              "59                        Simon Williams  ...                       None  None\n",
              "\n",
              "[60 rows x 13 columns]"
            ]
          },
          "metadata": {
            "tags": []
          },
          "execution_count": 89
        }
      ]
    },
    {
      "cell_type": "markdown",
      "metadata": {
        "id": "FBAy15WmaeMS"
      },
      "source": [
        "## Bookies in Cardiff (three pages) -- fails (but works in a jupyter notebook or as a .py file)"
      ]
    },
    {
      "cell_type": "code",
      "metadata": {
        "id": "uNfB5YxxIxY9"
      },
      "source": [
        "# extra imports needed\n",
        "\n",
        "from random import randint\n",
        "from time import sleep"
      ],
      "execution_count": null,
      "outputs": []
    },
    {
      "cell_type": "code",
      "metadata": {
        "id": "OSmNwk3Y2hOA",
        "colab": {
          "base_uri": "https://localhost:8080/"
        },
        "outputId": "49e50f3b-7b76-4612-9cb1-abc69a083f49"
      },
      "source": [
        "# using a user agent to look like a browser, although no ID\n",
        "\n",
        "# my_headers = {'User-Agent': 'Mozilla/5.0 (Macintosh; Intel Mac OS X 10.14; rv:84.0) Gecko/20100101 Firefox/84.0; Aidan ODonnell/odonnella4@cardiff.ac.uk'}\n",
        "my_headers = {'User-Agent': 'Mozilla/5.0 (Macintosh; Intel Mac OS X 10.14; rv:84.0) Gecko/20100101 Firefox/84.0'}\n",
        "\n",
        "nb = 1\n",
        "url = f'https://www.yell.com/ucs/UcsSearchAction.do?keywords=Bookmakers&location=cardiff%2C+United+Kingdom&scrambleSeed=1005010098&pageNum={nb}'\n",
        "print(url)\n",
        "\n",
        "req = requests.get(url, headers = my_headers, timeout = 5)\n",
        "req\n"
      ],
      "execution_count": null,
      "outputs": [
        {
          "output_type": "stream",
          "text": [
            "https://www.yell.com/ucs/UcsSearchAction.do?keywords=Bookmakers&location=cardiff%2C+United+Kingdom&scrambleSeed=1005010098&pageNum=1\n"
          ],
          "name": "stdout"
        },
        {
          "output_type": "execute_result",
          "data": {
            "text/plain": [
              "<Response [404]>"
            ]
          },
          "metadata": {
            "tags": []
          },
          "execution_count": 5
        }
      ]
    },
    {
      "cell_type": "code",
      "metadata": {
        "colab": {
          "base_uri": "https://localhost:8080/"
        },
        "id": "OGvvDJVhcoKB",
        "outputId": "7cf8d2e6-3661-4ac9-f254-e0ef1248a277"
      },
      "source": [
        "for k, v in req.headers.items():\n",
        "  print(k, v)"
      ],
      "execution_count": null,
      "outputs": [
        {
          "output_type": "stream",
          "text": [
            "Date Mon, 07 Dec 2020 18:20:27 GMT\n",
            "Content-Type text/html\n",
            "Transfer-Encoding chunked\n",
            "Connection keep-alive\n",
            "Cache-Control no-store, no-cache, no-store, must-revalidate, max-age=0\n",
            "X-Zen-Fury c910713bafb4a0f7c8830e627884cd64436246d3\n",
            "Server ZENEDGE\n",
            "Content-Encoding gzip\n"
          ],
          "name": "stdout"
        }
      ]
    },
    {
      "cell_type": "code",
      "metadata": {
        "id": "zv-pnQZ7Iy62"
      },
      "source": [
        "# how we would loop through the pages, IF we were getting 200 responses (which we're not....)\n",
        "\n",
        "nb = 1\n",
        "\n",
        "for x in range(3):\n",
        "\n",
        "    url = f'https://www.yell.com/ucs/UcsSearchAction.do?keywords=Bookmakers&location=cardiff%2C+United+Kingdom&scrambleSeed=1005010098&pageNum={nb}'\n",
        "    print(url)\n",
        "    req = requests.get(url)\n",
        "\n",
        "    # in here we get the answers from our soup...\n",
        "\n",
        "    nb = nb + 1\n",
        "    # time.sleep(3)\n",
        "    time.sleep(randint(2, 5))"
      ],
      "execution_count": null,
      "outputs": []
    }
  ]
}