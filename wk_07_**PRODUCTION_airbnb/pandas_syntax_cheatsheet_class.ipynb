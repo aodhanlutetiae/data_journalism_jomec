{
  "nbformat": 4,
  "nbformat_minor": 0,
  "metadata": {
    "colab": {
      "name": "pandas_syntax_cheatsheet_class.ipynb",
      "provenance": [],
      "collapsed_sections": []
    },
    "kernelspec": {
      "name": "python3",
      "display_name": "Python 3"
    }
  },
  "cells": [
    {
      "cell_type": "markdown",
      "metadata": {
        "id": "2OzYC7wE2KEs"
      },
      "source": [
        "## Import\n",
        "> Here we import from the google drive, rather from from a local machine"
      ]
    },
    {
      "cell_type": "code",
      "metadata": {
        "id": "Obc2nrNX1iy0"
      },
      "source": [
        "import pandas as pd\n",
        "\n",
        "pd.set_option('display.max_rows', 200)\n"
      ],
      "execution_count": null,
      "outputs": []
    },
    {
      "cell_type": "code",
      "metadata": {
        "id": "pbcIIXdr1ze6"
      },
      "source": [
        "# import a listings file (once the google drive is mouned)\n",
        "\n",
        "file = \"/content/drive/My Drive/JOMEC/FILES_FOR_CLASSES_2020/MSc/airbnb_dublin/summary_listings.csv\"\n",
        "\n",
        "df = pd.read_csv(file)"
      ],
      "execution_count": null,
      "outputs": []
    },
    {
      "cell_type": "markdown",
      "metadata": {
        "id": "OIYAK3_U2OQm"
      },
      "source": [
        "## Look at -- and clean"
      ]
    },
    {
      "cell_type": "code",
      "metadata": {
        "id": "jWNjgnq12IHv"
      },
      "source": [
        "# number of rows, cols\n",
        "\n",
        "df.shape"
      ],
      "execution_count": null,
      "outputs": []
    },
    {
      "cell_type": "code",
      "metadata": {
        "id": "KUb0Bkok2lwe"
      },
      "source": [
        "# or, how long is this df?\n",
        "\n",
        "len(df)"
      ],
      "execution_count": null,
      "outputs": []
    },
    {
      "cell_type": "code",
      "metadata": {
        "id": "o83Um0Ay2otJ"
      },
      "source": [
        "# what are the columns / variables?\n",
        "\n",
        "df.columns"
      ],
      "execution_count": null,
      "outputs": []
    },
    {
      "cell_type": "code",
      "metadata": {
        "id": "BpAftMSk2vEV"
      },
      "source": [
        "# in a vertical list please\n",
        "\n",
        "df.columns.to_list()"
      ],
      "execution_count": null,
      "outputs": []
    },
    {
      "cell_type": "code",
      "metadata": {
        "id": "Jmb3hjbE2xlT"
      },
      "source": [
        "# show me the datatype of each column\n",
        "\n",
        "df.info()"
      ],
      "execution_count": null,
      "outputs": []
    },
    {
      "cell_type": "code",
      "metadata": {
        "id": "Ab4m6NOk20BA"
      },
      "source": [
        "# show me the top of the dataframe\n",
        "\n",
        "# df.head(2)\n",
        "\n",
        "df[:3]"
      ],
      "execution_count": null,
      "outputs": []
    },
    {
      "cell_type": "code",
      "metadata": {
        "id": "ZA3z-3ca22gb"
      },
      "source": [
        "# cast last_review column to datetime\n",
        "\n",
        "df.last_review = df.last_review.astype('datetime64[ns]')\n"
      ],
      "execution_count": null,
      "outputs": []
    },
    {
      "cell_type": "code",
      "metadata": {
        "id": "mOjzftnu3xiB"
      },
      "source": [
        "# check that column is now datetime\n",
        "\n",
        "df.last_review.dtypes"
      ],
      "execution_count": null,
      "outputs": []
    },
    {
      "cell_type": "code",
      "metadata": {
        "id": "b67P76Ur6MI0"
      },
      "source": [
        "# what are the 'smallest' and 'biggest' dates in the df?\n",
        "\n",
        "print(df.last_review.min())\n",
        "print(df.last_review.max())"
      ],
      "execution_count": null,
      "outputs": []
    },
    {
      "cell_type": "code",
      "metadata": {
        "id": "bybf0FPi621G"
      },
      "source": [
        "# count the NULL in all cols of df - what columns have 'problems'?\n",
        "\n",
        "df.isnull().sum()\n"
      ],
      "execution_count": null,
      "outputs": []
    },
    {
      "cell_type": "markdown",
      "metadata": {
        "id": "cJacDrS77TY-"
      },
      "source": [
        "## Analysis"
      ]
    },
    {
      "cell_type": "code",
      "metadata": {
        "id": "dJHp5iLJ7Wyz"
      },
      "source": [
        "# show me the first two rows\n",
        "\n",
        "df[:2]"
      ],
      "execution_count": null,
      "outputs": []
    },
    {
      "cell_type": "code",
      "metadata": {
        "id": "33motQkc9ys4"
      },
      "source": [
        "# how many neighbourhoods, and which appear most often?\n",
        "\n",
        "df.neighbourhood.value_counts()"
      ],
      "execution_count": null,
      "outputs": []
    },
    {
      "cell_type": "code",
      "metadata": {
        "id": "2CkmszRI-gfU"
      },
      "source": [
        "# how many neighbourhoods?\n",
        "\n",
        "len(df.neighbourhood.value_counts())"
      ],
      "execution_count": null,
      "outputs": []
    },
    {
      "cell_type": "code",
      "metadata": {
        "id": "7p-OU8hu9lSV"
      },
      "source": [
        "# show me a sample of the rows\n",
        "\n",
        "df.sample(5)"
      ],
      "execution_count": null,
      "outputs": []
    },
    {
      "cell_type": "code",
      "metadata": {
        "id": "Zm4HGVfPAhYD"
      },
      "source": [
        "# average (mean) price?\n",
        "\n",
        "df.price.mean()"
      ],
      "execution_count": null,
      "outputs": []
    },
    {
      "cell_type": "code",
      "metadata": {
        "id": "-w9cuartBENZ"
      },
      "source": [
        "# median price?\n",
        "\n",
        "df.price.median()"
      ],
      "execution_count": null,
      "outputs": []
    },
    {
      "cell_type": "code",
      "metadata": {
        "id": "Y178qToDB004"
      },
      "source": [
        "# lowest figure in price col\n",
        "\n",
        "df.price.min()"
      ],
      "execution_count": null,
      "outputs": []
    },
    {
      "cell_type": "code",
      "metadata": {
        "id": "AcROF7TmCtMj"
      },
      "source": [
        "# filter for any rows where price = 0\n",
        "\n",
        "df[df.price == 0]"
      ],
      "execution_count": null,
      "outputs": []
    },
    {
      "cell_type": "code",
      "metadata": {
        "id": "5Fye-wRMCwG_"
      },
      "source": [
        "# sort entire df by price column, most expensive at the top - just show ten\n",
        "\n",
        "df.sort_values(by = 'price', ascending = False).head(10)"
      ],
      "execution_count": null,
      "outputs": []
    },
    {
      "cell_type": "code",
      "metadata": {
        "id": "3Q_mSwlaFAyC"
      },
      "source": [
        "# what's the biggest number of reviews a property has gotten?\n",
        "\n",
        "df.number_of_reviews.max()"
      ],
      "execution_count": null,
      "outputs": []
    },
    {
      "cell_type": "code",
      "metadata": {
        "id": "akktcUzQDH0y"
      },
      "source": [
        "# filter for any rows that have that many reviews under 'number_of_reviews'\n",
        "\n",
        "df[df.number_of_reviews == 688]"
      ],
      "execution_count": null,
      "outputs": []
    },
    {
      "cell_type": "code",
      "metadata": {
        "id": "QbxIAQw0Fjzw"
      },
      "source": [
        "# how many rows in this df, again?\n",
        "\n",
        "len(df)"
      ],
      "execution_count": null,
      "outputs": []
    },
    {
      "cell_type": "code",
      "metadata": {
        "id": "mTJ3kETBFjmw"
      },
      "source": [
        "# how many different host ids are there?\n",
        "\n",
        "df.host_id.nunique()"
      ],
      "execution_count": null,
      "outputs": []
    },
    {
      "cell_type": "code",
      "metadata": {
        "id": "Q2HNTUJxFj2p"
      },
      "source": [
        "# which host_ids appear the most often (top ten please)\n",
        "\n",
        "df.host_id.value_counts().head(10)"
      ],
      "execution_count": null,
      "outputs": []
    },
    {
      "cell_type": "code",
      "metadata": {
        "id": "WEqbnwveFj5j"
      },
      "source": [
        "# filter host_id for this particular id please\n",
        "\n",
        "df[df.host_id == 160402201].head(10)"
      ],
      "execution_count": null,
      "outputs": []
    },
    {
      "cell_type": "code",
      "metadata": {
        "id": "vjcgPAIZFj8V"
      },
      "source": [
        "# biggest longitude, so furthest east\n",
        "\n",
        "df.longitude.max()"
      ],
      "execution_count": null,
      "outputs": []
    },
    {
      "cell_type": "code",
      "metadata": {
        "id": "CT008THwGidb"
      },
      "source": [
        "# lowest longitude, so furthest west\n",
        "\n",
        "df.longitude.min()"
      ],
      "execution_count": null,
      "outputs": []
    },
    {
      "cell_type": "code",
      "metadata": {
        "id": "BsynFLsxGif0"
      },
      "source": [
        "df.latitude.max()"
      ],
      "execution_count": null,
      "outputs": []
    },
    {
      "cell_type": "code",
      "metadata": {
        "id": "gSgJp4fcGijI"
      },
      "source": [
        "df.latitude.min()"
      ],
      "execution_count": null,
      "outputs": []
    },
    {
      "cell_type": "code",
      "metadata": {
        "id": "RgMShEymGioI"
      },
      "source": [
        "# filter for the property that has the lowest latitude\n",
        "\n",
        "df[df.latitude == 53.20836]"
      ],
      "execution_count": null,
      "outputs": []
    },
    {
      "cell_type": "code",
      "metadata": {
        "id": "ry6f6qcbGisk"
      },
      "source": [
        ""
      ],
      "execution_count": null,
      "outputs": []
    },
    {
      "cell_type": "code",
      "metadata": {
        "id": "bCsCmxcrGivV"
      },
      "source": [
        ""
      ],
      "execution_count": null,
      "outputs": []
    }
  ]
}