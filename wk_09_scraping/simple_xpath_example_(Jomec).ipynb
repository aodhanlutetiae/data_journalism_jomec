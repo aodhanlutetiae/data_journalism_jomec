{
  "nbformat": 4,
  "nbformat_minor": 0,
  "metadata": {
    "colab": {
      "name": "simple xpath example (Jomec).ipynb",
      "provenance": [],
      "collapsed_sections": []
    },
    "kernelspec": {
      "name": "python3",
      "display_name": "Python 3"
    }
  },
  "cells": [
    {
      "cell_type": "markdown",
      "metadata": {
        "id": "48yeSHd5y2_d"
      },
      "source": [
        "Useful reference: \n",
        "\n",
        "> https://lxml.de/lxmlhtml.html\n",
        "\n",
        "xpath = '//p'\n",
        "- all Ps that are children of the body \n",
        "\n",
        "xpath = '/html/body/div/p'\n",
        "- the Ps that are found as children of this div\n",
        "\n",
        "xpath = '/html/body/div/p[2]'\n",
        "- the second P that is a child of the div\n",
        "\n",
        "xpath = '/html/body/*'\n",
        "- this gives us all the children of the body, regardless of type\n",
        "\n",
        "\"@class\"\n",
        "\"@id\"\n",
        "\"@href\"\n",
        "\n",
        "xpath = \"//p[@class='class-1']\"\n",
        "- all the Ps, but just those of this class\n",
        "\n",
        "xpath = '//*[id=\"uid\"]'\n",
        "- all elements in the html, then just those that have ID 'uid'\n",
        "\n",
        "xpath = '//div[@id=\"uid\"]/p[2]'\n",
        "- get all the divs that have a UID id, then find the 2nd P in that"
      ]
    },
    {
      "cell_type": "markdown",
      "metadata": {
        "id": "DaM7eJIi0zkD"
      },
      "source": [
        "## Start"
      ]
    },
    {
      "cell_type": "code",
      "metadata": {
        "id": "9_ZKmwL37Xi6"
      },
      "source": [
        "# lxml library will allow us to parse the xpath\n",
        "\n",
        "import requests\n",
        "from lxml import html\n",
        "\n",
        "from bs4 import BeautifulSoup as bs\n"
      ],
      "execution_count": 2,
      "outputs": []
    },
    {
      "cell_type": "code",
      "metadata": {
        "colab": {
          "base_uri": "https://localhost:8080/"
        },
        "id": "ElN2uaDr7eCB",
        "outputId": "8ffc0d2d-1f81-4d58-fe79-b8949e1cec05"
      },
      "source": [
        "# use the lxml module to produce a 'response'. You could create a soup here at the same time, then you could parse either way\n",
        "\n",
        "page = \"https://www.cardiff.ac.uk/journalism-media-and-culture/people/academic-staff\"\n",
        "req = requests.get(page)\n",
        "print(req)\n",
        "\n",
        "response = html.fromstring(req.content)\n",
        "type (response)"
      ],
      "execution_count": 4,
      "outputs": [
        {
          "output_type": "stream",
          "text": [
            "<Response [200]>\n"
          ],
          "name": "stdout"
        },
        {
          "output_type": "execute_result",
          "data": {
            "text/plain": [
              "lxml.html.HtmlElement"
            ]
          },
          "metadata": {
            "tags": []
          },
          "execution_count": 4
        }
      ]
    },
    {
      "cell_type": "code",
      "metadata": {
        "colab": {
          "base_uri": "https://localhost:8080/"
        },
        "id": "cmKyWVQd-1_d",
        "outputId": "9984c78c-18db-4392-e119-c4d73b574c06"
      },
      "source": [
        "# find the title of the page\n",
        "\n",
        "response.xpath('/html/head/title/text()')"
      ],
      "execution_count": 5,
      "outputs": [
        {
          "output_type": "execute_result",
          "data": {
            "text/plain": [
              "['Academic staff - School of Journalism, Media and Culture - Cardiff University']"
            ]
          },
          "metadata": {
            "tags": []
          },
          "execution_count": 5
        }
      ]
    },
    {
      "cell_type": "code",
      "metadata": {
        "colab": {
          "base_uri": "https://localhost:8080/"
        },
        "id": "k9eveScR7xOi",
        "outputId": "493e4e8e-38cd-4066-cae4-d6f229e8f830"
      },
      "source": [
        "# find all the h2s - note the //\n",
        "\n",
        "print(len(response.xpath('//h2')))\n",
        "\n",
        "# and we can specify those of a certain class\n",
        "\n",
        "print(len(response.xpath('//h2[@class=\"profile-title fn\"]')))\n",
        "\n",
        "# what ARE these things?\n",
        "print ('***********')\n",
        "print(type(response.xpath('//h2')))\n",
        "print(type(response.xpath('//h2')[4]))\n",
        "print(type(response.xpath('//h2[@class=\"profile-title fn\"]')[4]))"
      ],
      "execution_count": 6,
      "outputs": [
        {
          "output_type": "stream",
          "text": [
            "68\n",
            "60\n",
            "***********\n",
            "<class 'list'>\n",
            "<class 'lxml.html.HtmlElement'>\n",
            "<class 'lxml.html.HtmlElement'>\n"
          ],
          "name": "stdout"
        }
      ]
    },
    {
      "cell_type": "code",
      "metadata": {
        "id": "bPtf6laXBt7c"
      },
      "source": [
        "# what methods are available to one of these list items? We can call 'dir' on ti\n",
        "\n",
        "my_resp = response.xpath('//h2[@class=\"profile-title fn\"]')[4]\n",
        "dir(my_resp)\n"
      ],
      "execution_count": null,
      "outputs": []
    },
    {
      "cell_type": "code",
      "metadata": {
        "id": "IgVnAws9AK03"
      },
      "source": [
        "# we can collect the text from all the h2s of the names via their class\n",
        "\n",
        "for x in response.xpath('//h2[@class=\"profile-title fn\"]'):\n",
        "    print(x.text_content())"
      ],
      "execution_count": null,
      "outputs": []
    },
    {
      "cell_type": "code",
      "metadata": {
        "id": "Wt8ImKwTBt_k"
      },
      "source": [
        "# or the overall solution via the divs\n",
        "\n",
        "for x in response.xpath('//div[@class=\"profile profile-student with-image vcard\"]'):\n",
        "    print(x.text_content())"
      ],
      "execution_count": null,
      "outputs": []
    }
  ]
}