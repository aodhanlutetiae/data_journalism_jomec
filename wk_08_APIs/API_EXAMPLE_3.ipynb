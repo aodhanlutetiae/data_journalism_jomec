{
  "nbformat": 4,
  "nbformat_minor": 0,
  "metadata": {
    "colab": {
      "name": "API EXAMPLE 3.ipynb",
      "provenance": [],
      "collapsed_sections": []
    },
    "kernelspec": {
      "name": "python3",
      "display_name": "Python 3"
    }
  },
  "cells": [
    {
      "cell_type": "markdown",
      "metadata": {
        "id": "5V2J6nfu-PBH"
      },
      "source": [
        "## !doc + CONTEXT (2030)\n",
        "\n",
        "> https://www.gov.uk/guidance/find-and-use-data-on-public-electric-vehicle-chargepoints\n",
        "\n",
        ">  API doc: https://chargepoints.dft.gov.uk/api/help\n",
        "\n",
        "> NOTE - direct csv, json and xml downloads possible at: \n",
        "https://chargepoints.dft.gov.uk/api/retrieve/registry/\n",
        "https://chargepoints.dft.gov.uk/api/retrieve/registry/format/json\n",
        "https://www.gov.uk/guidance/find-and-use-data-on-public-electric-vehicle-chargepoints (download CSV from this page)\n",
        "    "
      ]
    },
    {
      "cell_type": "code",
      "metadata": {
        "id": "piB237ka-LhA"
      },
      "source": [
        "# imports\n",
        "\n",
        "import requests\n",
        "import pandas as pd\n",
        "# pd.options.display.max_columns = 200\n"
      ],
      "execution_count": null,
      "outputs": []
    },
    {
      "cell_type": "markdown",
      "metadata": {
        "id": "EmsBkBo1_9xK"
      },
      "source": [
        "## Query the API and filter the result"
      ]
    },
    {
      "cell_type": "code",
      "metadata": {
        "id": "wVKS9PoJ-S2d"
      },
      "source": [
        "url = 'https://chargepoints.dft.gov.uk/api/retrieve/registry/format/json'\n",
        "\n",
        "req = requests.get(url)\n",
        "response = req.json()"
      ],
      "execution_count": null,
      "outputs": []
    },
    {
      "cell_type": "code",
      "metadata": {
        "colab": {
          "base_uri": "https://localhost:8080/"
        },
        "id": "7ZPxe7Fb-tdS",
        "outputId": "ee04eb97-4707-4f64-cfe7-e13dc55e7a7d"
      },
      "source": [
        "response.keys()"
      ],
      "execution_count": null,
      "outputs": [
        {
          "output_type": "execute_result",
          "data": {
            "text/plain": [
              "dict_keys(['Scheme', 'ChargeDevice'])"
            ]
          },
          "metadata": {
            "tags": []
          },
          "execution_count": 7
        }
      ]
    },
    {
      "cell_type": "code",
      "metadata": {
        "colab": {
          "base_uri": "https://localhost:8080/"
        },
        "id": "Rrvl4Lwu-xxb",
        "outputId": "d57e6d62-2c55-473c-9046-4160b17983b7"
      },
      "source": [
        "# how many items inside 'ChargeDevice\n",
        "\n",
        "len(response['ChargeDevice'])"
      ],
      "execution_count": null,
      "outputs": [
        {
          "output_type": "execute_result",
          "data": {
            "text/plain": [
              "12330"
            ]
          },
          "metadata": {
            "tags": []
          },
          "execution_count": 8
        }
      ]
    },
    {
      "cell_type": "code",
      "metadata": {
        "id": "admuXTV1_O1T"
      },
      "source": [
        "# assign this to a variable\n",
        "data = response['ChargeDevice']\n",
        "\n",
        "# look at one instance of the data\n",
        "data[9]"
      ],
      "execution_count": null,
      "outputs": []
    },
    {
      "cell_type": "code",
      "metadata": {
        "id": "vka8CxJ1_YsS"
      },
      "source": [
        "rows = []\n",
        "\n",
        "target = 'Cardiff'\n",
        "\n",
        "for x in data:\n",
        "  \n",
        "    if x['ChargeDeviceLocation']['Address']['PostTown'] == target:\n",
        "        title = x['ChargeDeviceName']\n",
        "        lat = x['ChargeDeviceLocation']['Latitude']\n",
        "        long = x['ChargeDeviceLocation']['Longitude']\n",
        "        place = x['ChargeDeviceLocation']['Address']['PostTown']\n",
        "        code = x['ChargeDeviceLocation']['Address']['PostCode']\n",
        "        owned_by = x['DeviceOwner']['OrganisationName']\n",
        "        telephone = x['DeviceOwner']['TelephoneNo']\n",
        "        loc = x['LocationType']\n",
        "    \n",
        "        rows.append({\"name\": title, \"latitude\": lat, \"longitude\": long, \"town\": place, \"postcode\": code,\"owner\": owned_by, \"phone\": telephone, \"location_type\": loc})\n"
      ],
      "execution_count": null,
      "outputs": []
    },
    {
      "cell_type": "code",
      "metadata": {
        "colab": {
          "base_uri": "https://localhost:8080/"
        },
        "id": "ytFAzlVq_xCc",
        "outputId": "0857a198-9972-4603-f79a-d848a8e5b268"
      },
      "source": [
        "## assemble the df\n",
        "\n",
        "df = pd.DataFrame(rows)\n",
        "df.shape"
      ],
      "execution_count": null,
      "outputs": [
        {
          "output_type": "execute_result",
          "data": {
            "text/plain": [
              "(30, 8)"
            ]
          },
          "metadata": {
            "tags": []
          },
          "execution_count": 12
        }
      ]
    },
    {
      "cell_type": "code",
      "metadata": {
        "id": "eXH4vsm9_6it"
      },
      "source": [
        ""
      ],
      "execution_count": null,
      "outputs": []
    },
    {
      "cell_type": "markdown",
      "metadata": {
        "id": "21hM12awATnq"
      },
      "source": [
        "## select for all of Wales"
      ]
    },
    {
      "cell_type": "code",
      "metadata": {
        "id": "JNTGudmrAVqq"
      },
      "source": [
        "rows = []\n",
        "wpa = ['CF', 'NP', 'SA', 'LD', 'SY', 'LL']\n",
        "\n",
        "for x in data:\n",
        "    \n",
        "    response_code = x['ChargeDeviceLocation']['Address']['PostCode']   \n",
        "    if response_code != None and response_code[:2] in wpa:\n",
        "        \n",
        "        title = x['ChargeDeviceName']\n",
        "        lat = x['ChargeDeviceLocation']['Latitude']\n",
        "        long = x['ChargeDeviceLocation']['Longitude']\n",
        "        place = x['ChargeDeviceLocation']['Address']['PostTown']\n",
        "        county = x['ChargeDeviceLocation']['Address']['County']\n",
        "        code = x['ChargeDeviceLocation']['Address']['PostCode']\n",
        "        connec = len(x['Connector'])\n",
        "        long_loc = x['ChargeDeviceLocation']['LocationLongDescription']\n",
        "        owned_by = x['DeviceOwner']['OrganisationName']\n",
        "        website = x['DeviceOwner']['Website']\n",
        "        telephone = x['DeviceOwner']['TelephoneNo']\n",
        "        working = x['ChargeDeviceStatus']\n",
        "        date_c = x['DateCreated']\n",
        "        date_u = x['DateUpdated']\n",
        "        subs = x['SubscriptionRequiredFlag']\n",
        "        subs_details = x['SubscriptionDetails']\n",
        "        loc = x['LocationType']\n",
        "        twentyfourhrs = x['Accessible24Hours']\n",
        "\n",
        "\n",
        "        rows.append({\"name\": title, \"latitude\": lat, \"longitude\": long, \"town\": place, \"county\": county, \n",
        "                     \"postcode\": code, \"nb_connectors\": connec, \"address\": long_loc, \"owner\": owned_by, \"website\": website, \n",
        "                     \"phone\": telephone, \"date_created\":date_c, \"date_updated\": date_u, \n",
        "                     \"subscription\": subs, \"subscription_details\": subs_details, \"location_type\": loc, \n",
        "                    \"24hours\": twentyfourhrs, \"working_order\":working})"
      ],
      "execution_count": null,
      "outputs": []
    },
    {
      "cell_type": "code",
      "metadata": {
        "colab": {
          "base_uri": "https://localhost:8080/",
          "height": 319
        },
        "id": "k3GqiSEcAgqy",
        "outputId": "af4568ff-ada8-4811-975f-4af6b61b9a53"
      },
      "source": [
        "wdf = pd.DataFrame(rows)\n",
        "wdf[:3]"
      ],
      "execution_count": null,
      "outputs": [
        {
          "output_type": "execute_result",
          "data": {
            "text/html": [
              "<div>\n",
              "<style scoped>\n",
              "    .dataframe tbody tr th:only-of-type {\n",
              "        vertical-align: middle;\n",
              "    }\n",
              "\n",
              "    .dataframe tbody tr th {\n",
              "        vertical-align: top;\n",
              "    }\n",
              "\n",
              "    .dataframe thead th {\n",
              "        text-align: right;\n",
              "    }\n",
              "</style>\n",
              "<table border=\"1\" class=\"dataframe\">\n",
              "  <thead>\n",
              "    <tr style=\"text-align: right;\">\n",
              "      <th></th>\n",
              "      <th>name</th>\n",
              "      <th>latitude</th>\n",
              "      <th>longitude</th>\n",
              "      <th>town</th>\n",
              "      <th>county</th>\n",
              "      <th>postcode</th>\n",
              "      <th>nb_connectors</th>\n",
              "      <th>address</th>\n",
              "      <th>owner</th>\n",
              "      <th>website</th>\n",
              "      <th>phone</th>\n",
              "      <th>date_created</th>\n",
              "      <th>date_updated</th>\n",
              "      <th>subscription</th>\n",
              "      <th>subscription_details</th>\n",
              "      <th>location_type</th>\n",
              "      <th>24hours</th>\n",
              "      <th>working_order</th>\n",
              "    </tr>\n",
              "  </thead>\n",
              "  <tbody>\n",
              "    <tr>\n",
              "      <th>0</th>\n",
              "      <td>Easthope Car Park Church Stretton</td>\n",
              "      <td>52.537630</td>\n",
              "      <td>-2.807690</td>\n",
              "      <td>Church Stretton</td>\n",
              "      <td>Shropshire</td>\n",
              "      <td>SY6 6BX</td>\n",
              "      <td>2</td>\n",
              "      <td>On RHS of car park before the Coop. Parking ch...</td>\n",
              "      <td>Church Stretton District Council</td>\n",
              "      <td>http://www.churchstretton.co.uk</td>\n",
              "      <td>01694 722113</td>\n",
              "      <td>2014-09-24 14:41:27</td>\n",
              "      <td>2016-03-15 11:09:18</td>\n",
              "      <td>False</td>\n",
              "      <td>None</td>\n",
              "      <td>Other</td>\n",
              "      <td>True</td>\n",
              "      <td>In service</td>\n",
              "    </tr>\n",
              "    <tr>\n",
              "      <th>1</th>\n",
              "      <td>Cletwr car park</td>\n",
              "      <td>52.512613</td>\n",
              "      <td>-3.975689</td>\n",
              "      <td>Machynlleth</td>\n",
              "      <td>Powys</td>\n",
              "      <td>SY20 8PN</td>\n",
              "      <td>3</td>\n",
              "      <td>None</td>\n",
              "      <td>Chargemaster (POLAR)</td>\n",
              "      <td>https://www.chargemasterplc.com</td>\n",
              "      <td>01582 400331</td>\n",
              "      <td>2019-11-08 11:34:07</td>\n",
              "      <td>2020-04-26 14:39:35</td>\n",
              "      <td>True</td>\n",
              "      <td>None</td>\n",
              "      <td>Retail car park</td>\n",
              "      <td>False</td>\n",
              "      <td>In service</td>\n",
              "    </tr>\n",
              "    <tr>\n",
              "      <th>2</th>\n",
              "      <td>NCP Greyfriars</td>\n",
              "      <td>51.483101</td>\n",
              "      <td>-3.175770</td>\n",
              "      <td>Cardiff</td>\n",
              "      <td>NA</td>\n",
              "      <td>CF10 3AD</td>\n",
              "      <td>2</td>\n",
              "      <td>None</td>\n",
              "      <td>Chargemaster (POLAR)</td>\n",
              "      <td>https://www.chargemasterplc.com</td>\n",
              "      <td>01582 400331</td>\n",
              "      <td>2020-05-04 10:33:48</td>\n",
              "      <td>2020-05-04 10:33:48</td>\n",
              "      <td>True</td>\n",
              "      <td>None</td>\n",
              "      <td>Service station</td>\n",
              "      <td>False</td>\n",
              "      <td>In service</td>\n",
              "    </tr>\n",
              "  </tbody>\n",
              "</table>\n",
              "</div>"
            ],
            "text/plain": [
              "                                name   latitude  ... 24hours working_order\n",
              "0  Easthope Car Park Church Stretton  52.537630  ...    True    In service\n",
              "1                    Cletwr car park  52.512613  ...   False    In service\n",
              "2                     NCP Greyfriars  51.483101  ...   False    In service\n",
              "\n",
              "[3 rows x 18 columns]"
            ]
          },
          "metadata": {
            "tags": []
          },
          "execution_count": 14
        }
      ]
    },
    {
      "cell_type": "markdown",
      "metadata": {
        "id": "wT0PZQ30-i3S"
      },
      "source": [
        "## parameters for lat, long + radius"
      ]
    },
    {
      "cell_type": "code",
      "metadata": {
        "id": "HbQUlVY_AmHH",
        "colab": {
          "base_uri": "https://localhost:8080/"
        },
        "outputId": "3280c619-3b7f-474c-e0a6-f4918988d0bd"
      },
      "source": [
        "# see documentation\n",
        "\n",
        "format_type = 'json'\n",
        "latitude = '51.545581'\n",
        "longitude = '-0.077301'\n",
        "radius = '10'\n",
        "\n",
        "query = f'http://chargepoints.dft.gov.uk/api/retrieve/registry/format/{format_type}/lat/{latitude}/long/{longitude}/dist/{radius}'\n",
        "\n",
        "req = requests.get(query)\n",
        "req"
      ],
      "execution_count": null,
      "outputs": [
        {
          "output_type": "execute_result",
          "data": {
            "text/plain": [
              "<Response [200]>"
            ]
          },
          "metadata": {
            "tags": []
          },
          "execution_count": 5
        }
      ]
    },
    {
      "cell_type": "code",
      "metadata": {
        "id": "jzESkvp5_MAI"
      },
      "source": [
        "response = req.json()\n",
        "response"
      ],
      "execution_count": null,
      "outputs": []
    },
    {
      "cell_type": "code",
      "metadata": {
        "colab": {
          "base_uri": "https://localhost:8080/"
        },
        "id": "6gcnfbyS_aLM",
        "outputId": "c59bbab7-26ef-4f71-e366-6f5c8563a57d"
      },
      "source": [
        "len (response)"
      ],
      "execution_count": null,
      "outputs": [
        {
          "output_type": "execute_result",
          "data": {
            "text/plain": [
              "2"
            ]
          },
          "metadata": {
            "tags": []
          },
          "execution_count": 7
        }
      ]
    },
    {
      "cell_type": "code",
      "metadata": {
        "colab": {
          "base_uri": "https://localhost:8080/"
        },
        "id": "mV4rAe1p_qxL",
        "outputId": "3c792b1b-2a75-409a-f92a-b2978418af03"
      },
      "source": [
        "response.keys()"
      ],
      "execution_count": null,
      "outputs": [
        {
          "output_type": "execute_result",
          "data": {
            "text/plain": [
              "dict_keys(['Scheme', 'ChargeDevice'])"
            ]
          },
          "metadata": {
            "tags": []
          },
          "execution_count": 9
        }
      ]
    },
    {
      "cell_type": "code",
      "metadata": {
        "id": "f4vyKx9b_rzO"
      },
      "source": [
        "data = response['ChargeDevice']"
      ],
      "execution_count": null,
      "outputs": []
    },
    {
      "cell_type": "code",
      "metadata": {
        "colab": {
          "base_uri": "https://localhost:8080/"
        },
        "id": "d51cI55X_wQX",
        "outputId": "1e885d27-a3b3-4790-a30b-d294d50d13d9"
      },
      "source": [
        "len(data)"
      ],
      "execution_count": null,
      "outputs": [
        {
          "output_type": "execute_result",
          "data": {
            "text/plain": [
              "3458"
            ]
          },
          "metadata": {
            "tags": []
          },
          "execution_count": 12
        }
      ]
    },
    {
      "cell_type": "code",
      "metadata": {
        "colab": {
          "base_uri": "https://localhost:8080/"
        },
        "id": "_k12VnHV_85J",
        "outputId": "8e28b153-d4d0-4fff-c4d4-d0bd77e7d966"
      },
      "source": [
        "data[4]"
      ],
      "execution_count": null,
      "outputs": [
        {
          "output_type": "execute_result",
          "data": {
            "text/plain": [
              "{'AccessRestrictionDetails': '',\n",
              " 'AccessRestrictionFlag': False,\n",
              " 'Accessible24Hours': False,\n",
              " 'Attribution': 'Source London',\n",
              " 'Bearing': None,\n",
              " 'ChargeDeviceId': 'f8411c202a5cf1e26a0eb50979857d44',\n",
              " 'ChargeDeviceLocation': {'Address': {'BuildingName': '',\n",
              "   'BuildingNumber': '321A',\n",
              "   'Country': 'gb',\n",
              "   'County': 'Greater London',\n",
              "   'DependantLocality': None,\n",
              "   'DoubleDependantLocality': None,\n",
              "   'PostCode': 'N11 1BA',\n",
              "   'PostTown': 'New Southgate',\n",
              "   'Street': '',\n",
              "   'SubBuildingName': None,\n",
              "   'Thoroughfare': 'Bowes Road',\n",
              "   'UPRN': None},\n",
              "  'Latitude': '51.616451',\n",
              "  'LocationLongDescription': '',\n",
              "  'LocationShortDescription': None,\n",
              "  'Longitude': '-0.132860'},\n",
              " 'ChargeDeviceManufacturer': None,\n",
              " 'ChargeDeviceModel': '',\n",
              " 'ChargeDeviceName': 'Arnos Grove Station Car Park 1',\n",
              " 'ChargeDeviceRef': 'SRC_LDN60196',\n",
              " 'ChargeDeviceStatus': 'In service',\n",
              " 'ChargeDeviceText': None,\n",
              " 'Connector': [{'ChargeMethod': 'Single Phase AC',\n",
              "   'ChargeMode': '3',\n",
              "   'ChargePointStatus': 'In service',\n",
              "   'ConnectorId': '1',\n",
              "   'ConnectorType': 'Type 2 Mennekes (IEC62196)',\n",
              "   'Information': \"  x 7-pin 'Smart' eg Mennekes (IEC 62196) - Rapid (20-50kW, 33A+)\",\n",
              "   'RatedOutputCurrent': '32',\n",
              "   'RatedOutputVoltage': '230',\n",
              "   'RatedOutputkW': '7.0',\n",
              "   'TetheredCable': '0',\n",
              "   'Validated': '0'},\n",
              "  {'ChargeMethod': 'Single Phase AC',\n",
              "   'ChargeMode': '3',\n",
              "   'ChargePointStatus': 'In service',\n",
              "   'ConnectorId': '2',\n",
              "   'ConnectorType': 'Type 2 Mennekes (IEC62196)',\n",
              "   'Information': \"  x 7-pin 'Smart' eg Mennekes (IEC 62196) - Rapid (20-50kW, 33A+)\",\n",
              "   'RatedOutputCurrent': '32',\n",
              "   'RatedOutputVoltage': '230',\n",
              "   'RatedOutputkW': '7.0',\n",
              "   'TetheredCable': '0',\n",
              "   'Validated': '0'}],\n",
              " 'DateCreated': '2014-08-19 05:15:08',\n",
              " 'DateDeleted': 'n/a',\n",
              " 'DateUpdated': '2015-10-15 12:32:14',\n",
              " 'DeviceAccess': [],\n",
              " 'DeviceController': {'OrganisationName': 'Source London',\n",
              "  'SchemeCode': 'SRC_LDN',\n",
              "  'TelephoneNo': '020 3056 8989',\n",
              "  'Website': 'https://www.sourcelondon.net'},\n",
              " 'DeviceNetworks': 'Source London',\n",
              " 'DeviceOwner': {'OrganisationName': 'Source London',\n",
              "  'SchemeCode': 'SRC_LDN',\n",
              "  'TelephoneNo': '020 3056 8989',\n",
              "  'Website': 'https://www.sourcelondon.net'},\n",
              " 'DeviceValidated': '0',\n",
              " 'LocationType': 'Public car park',\n",
              " 'OnStreetFlag': False,\n",
              " 'ParkingFeesDetails': '',\n",
              " 'ParkingFeesFlag': False,\n",
              " 'ParkingFeesUrl': None,\n",
              " 'PaymentDetails': '',\n",
              " 'PaymentRequiredFlag': False,\n",
              " 'PhysicalRestrictionFlag': False,\n",
              " 'PhysicalRestrictionText': '',\n",
              " 'PublishStatus': 'Published',\n",
              " 'PublishStatusID': '1',\n",
              " 'RecordLastUpdated': '2015-10-15 12:32:14',\n",
              " 'RecordLastUpdatedBy': 'NCR Admin',\n",
              " 'RecordModerated': 'Y',\n",
              " 'SubscriptionDetails': '£5 per annum for RFiD card',\n",
              " 'SubscriptionRequiredFlag': True}"
            ]
          },
          "metadata": {
            "tags": []
          },
          "execution_count": 13
        }
      ]
    },
    {
      "cell_type": "code",
      "metadata": {
        "id": "-1DX89EjLYCj"
      },
      "source": [
        ""
      ],
      "execution_count": null,
      "outputs": []
    }
  ]
}